{
  "nbformat": 4,
  "nbformat_minor": 0,
  "metadata": {
    "colab": {
      "name": "Assignment-5",
      "provenance": []
    },
    "kernelspec": {
      "name": "python3",
      "display_name": "Python 3"
    },
    "language_info": {
      "name": "python"
    }
  },
  "cells": [
    {
      "cell_type": "markdown",
      "metadata": {
        "id": "pGb2QMj7I4RF"
      },
      "source": [
        "#Import Libraries"
      ]
    },
    {
      "cell_type": "code",
      "metadata": {
        "id": "cYrpH6OZua4n"
      },
      "source": [
        "import numpy as np \n",
        "import pandas as pd\n",
        "import tensorflow.keras\n",
        "from sklearn.preprocessing import LabelBinarizer\n",
        "import matplotlib.pyplot as plt\n",
        "%matplotlib inline\n",
        "from keras.callbacks import ModelCheckpoint\n",
        "import tensorflow as tf\n",
        "\n",
        "\n"
      ],
      "execution_count": 175,
      "outputs": []
    },
    {
      "cell_type": "markdown",
      "metadata": {
        "id": "uMwP99_BH7Li"
      },
      "source": [
        "#Loading of MNIST Dataset\n"
      ]
    },
    {
      "cell_type": "code",
      "metadata": {
        "id": "zmX6WsgruZEq"
      },
      "source": [
        "from keras.datasets import mnist\n",
        "from keras.models import Sequential\n",
        "from keras.layers import Dense, Activation, Dropout\n",
        "from tensorflow.keras.utils import to_categorical\n",
        "from keras import backend as K"
      ],
      "execution_count": 155,
      "outputs": []
    },
    {
      "cell_type": "markdown",
      "metadata": {
        "id": "8cj0bjepxMmI"
      },
      "source": [
        "#Data Preprocessing"
      ]
    },
    {
      "cell_type": "code",
      "metadata": {
        "colab": {
          "base_uri": "https://localhost:8080/"
        },
        "id": "qYBsEND0tb1O",
        "outputId": "fc31a515-623b-4b5a-a2ed-d251af4e4ba3"
      },
      "source": [
        "batch_size = 64\n",
        "num_classes = 10\n",
        "epochs = 30\n",
        "\n",
        "#input image dimensions\n",
        "img_rows, img_cols = 28, 28\n",
        "\n",
        "#the data, shuffled and split between train and test sets\n",
        "(Train_x,Train_y ), (Test_x,Test_y) = mnist.load_data()\n",
        "\n",
        "if K.image_data_format() == 'channels_first':\n",
        "    Train_x = Train_x.reshape(Train_x.shape[0], 1, img_rows, img_cols)\n",
        "    Test_x = Test_x.reshape(Test_x.shape[0], 1, img_rows, img_cols)\n",
        "    input_shape = (1, img_rows, img_cols)\n",
        "else:\n",
        "    Train_x = Train_x.reshape(Train_x.shape[0], img_rows, img_cols, 1)\n",
        "    Test_x = Test_x.reshape(  Test_x.shape[0], img_rows, img_cols, 1)\n",
        "    input_shape = (img_rows, img_cols, 1)\n",
        "\n",
        "# normalize x\n",
        "Train_x = Train_x.astype(float) / 255.\n",
        "Test_x = Test_x.astype(float) / 255.\n",
        "#Printing dimensions\n",
        "print(Train_x.shape, Train_y.shape)\n",
        "Train_x,Train_y=Train_x[:10000]/255.0,Train_y[:10000]\n",
        "image_size = Train_x.shape[1]\n",
        "input_size = image_size * image_size\n",
        "input_size\n",
        "#Train_x = np.reshape(Train_x, [-1, input_size])\n",
        "#Test_x = np.reshape(Test_x, [-1, input_size])\n",
        "\n",
        "\n"
      ],
      "execution_count": 166,
      "outputs": [
        {
          "output_type": "stream",
          "name": "stdout",
          "text": [
            "(60000, 28, 28, 1) (60000,)\n"
          ]
        },
        {
          "output_type": "execute_result",
          "data": {
            "text/plain": [
              "784"
            ]
          },
          "metadata": {},
          "execution_count": 166
        }
      ]
    },
    {
      "cell_type": "code",
      "metadata": {
        "id": "C8Ng_0lZxYf1"
      },
      "source": [
        "#(Train_x, Train_y), (Test_x, Test_y) = keras.datasets.mnist.load_data()\n",
        "    #"
      ],
      "execution_count": 157,
      "outputs": []
    },
    {
      "cell_type": "markdown",
      "metadata": {
        "id": "OOtwd6ShgYZ1"
      },
      "source": [
        "#One Hot Encoding"
      ]
    },
    {
      "cell_type": "code",
      "metadata": {
        "id": "JM2Dw4OafJj7"
      },
      "source": [
        "Train_y = to_categorical(Train_y)\n",
        "Test_x = to_categorical(Test_y)"
      ],
      "execution_count": 158,
      "outputs": []
    },
    {
      "cell_type": "code",
      "metadata": {
        "id": "gCHOIv0DgvAH"
      },
      "source": [
        "from tensorflow.keras.models import Sequential\n",
        "from tensorflow.keras.layers import Dense,Flatten \n",
        "def create_model():\n",
        "  model=Sequential([\n",
        "                    Flatten(input_shape=(28,28)),\n",
        "                    Dense(300,activation='sigmoid'),\n",
        "                    Dense(100,activation='relu'),\n",
        "                    Dense(10,activation='softmax'),\n",
        "\n",
        "  ])\n",
        "  return model\n",
        "\n",
        "  \n",
        "\n",
        "\n",
        "\n",
        "#model.add(Activation('relu'))\n",
        "#print(model.summary())\n",
        "#def sigmoid(z):\n",
        "    #output = 1 / (1+np.exp(-z))\n",
        "   #return output\n"
      ],
      "execution_count": 159,
      "outputs": []
    },
    {
      "cell_type": "markdown",
      "metadata": {
        "id": "sUbaPBvTp0ex"
      },
      "source": [
        "#Model Creation"
      ]
    },
    {
      "cell_type": "code",
      "metadata": {
        "colab": {
          "base_uri": "https://localhost:8080/"
        },
        "id": "3bHzfAefnU1F",
        "outputId": "d7ca8c86-5350-428c-8ec7-2276e34133c1"
      },
      "source": [
        "model=create_model()\n",
        "model.summary()"
      ],
      "execution_count": 160,
      "outputs": [
        {
          "output_type": "stream",
          "name": "stdout",
          "text": [
            "Model: \"sequential_33\"\n",
            "_________________________________________________________________\n",
            "Layer (type)                 Output Shape              Param #   \n",
            "=================================================================\n",
            "flatten_28 (Flatten)         (None, 784)               0         \n",
            "_________________________________________________________________\n",
            "dense_84 (Dense)             (None, 300)               235500    \n",
            "_________________________________________________________________\n",
            "dense_85 (Dense)             (None, 100)               30100     \n",
            "_________________________________________________________________\n",
            "dense_86 (Dense)             (None, 10)                1010      \n",
            "=================================================================\n",
            "Total params: 266,610\n",
            "Trainable params: 266,610\n",
            "Non-trainable params: 0\n",
            "_________________________________________________________________\n"
          ]
        }
      ]
    },
    {
      "cell_type": "code",
      "metadata": {
        "id": "e0hRwqAuoBhx"
      },
      "source": [
        "def plot_lr(history):\n",
        "  learning_rate=history.history['lr']\n",
        "  epochs=range(1,len (learning_rate)+1)\n",
        "  plt.plot(epochs,learning_rate)\n",
        "  plt.title('Learning Rate')\n",
        "  plt.xlabel('Epochs')\n",
        "  plt.ylabel('Learning rate')\n",
        "  plt.show()"
      ],
      "execution_count": 169,
      "outputs": []
    },
    {
      "cell_type": "code",
      "metadata": {
        "colab": {
          "base_uri": "https://localhost:8080/"
        },
        "id": "lkvtqQF7qAyH",
        "outputId": "c5fcc4f0-a2b9-477b-90ae-043f98b48938"
      },
      "source": [
        "model=create_model()\n",
        "model.summary()"
      ],
      "execution_count": 162,
      "outputs": [
        {
          "output_type": "stream",
          "name": "stdout",
          "text": [
            "Model: \"sequential_34\"\n",
            "_________________________________________________________________\n",
            "Layer (type)                 Output Shape              Param #   \n",
            "=================================================================\n",
            "flatten_29 (Flatten)         (None, 784)               0         \n",
            "_________________________________________________________________\n",
            "dense_87 (Dense)             (None, 300)               235500    \n",
            "_________________________________________________________________\n",
            "dense_88 (Dense)             (None, 100)               30100     \n",
            "_________________________________________________________________\n",
            "dense_89 (Dense)             (None, 10)                1010      \n",
            "=================================================================\n",
            "Total params: 266,610\n",
            "Trainable params: 266,610\n",
            "Non-trainable params: 0\n",
            "_________________________________________________________________\n"
          ]
        }
      ]
    },
    {
      "cell_type": "code",
      "metadata": {
        "colab": {
          "base_uri": "https://localhost:8080/"
        },
        "id": "Oi6Q6Bj8qFZd",
        "outputId": "6cf2ed7e-3a90-4281-b47d-af9a2a0c8ba6"
      },
      "source": [
        "model=create_model()\n",
        "sgd = tensorflow.optimizers.SGD(learning_rate=0.01)\n",
        "model.compile(\n",
        "    optimizer='sgd',\n",
        "    loss='sparse_categorical_crossentropy',\n",
        "    metrics=['accuracy']\n",
        ")\n",
        "tf.keras.callbacks.EarlyStopping(\n",
        "    monitor='val_loss', min_delta=0, verbose=1,\n",
        "    mode='auto', restore_best_weights=False\n",
        ")\n",
        "history_constant=model.fit(\n",
        "    Train_x,\n",
        "    Train_y,\n",
        "    epochs=100,\n",
        "    validation_split=0.2,\n",
        "    batch_size=64\n",
        ")"
      ],
      "execution_count": 176,
      "outputs": [
        {
          "output_type": "stream",
          "name": "stdout",
          "text": [
            "Epoch 1/100\n",
            "125/125 [==============================] - 1s 7ms/step - loss: 2.3395 - accuracy: 0.1037 - val_loss: 2.3026 - val_accuracy: 0.1105\n",
            "Epoch 2/100\n",
            "125/125 [==============================] - 1s 5ms/step - loss: 2.3023 - accuracy: 0.1120 - val_loss: 2.2999 - val_accuracy: 0.1105\n",
            "Epoch 3/100\n",
            "125/125 [==============================] - 1s 6ms/step - loss: 2.3022 - accuracy: 0.1147 - val_loss: 2.3003 - val_accuracy: 0.1105\n",
            "Epoch 4/100\n",
            "125/125 [==============================] - 1s 5ms/step - loss: 2.3021 - accuracy: 0.1117 - val_loss: 2.3005 - val_accuracy: 0.1105\n",
            "Epoch 5/100\n",
            "125/125 [==============================] - 1s 6ms/step - loss: 2.3021 - accuracy: 0.1115 - val_loss: 2.2998 - val_accuracy: 0.1105\n",
            "Epoch 6/100\n",
            "125/125 [==============================] - 1s 6ms/step - loss: 2.3020 - accuracy: 0.1123 - val_loss: 2.3010 - val_accuracy: 0.1105\n",
            "Epoch 7/100\n",
            "125/125 [==============================] - 1s 6ms/step - loss: 2.3022 - accuracy: 0.1103 - val_loss: 2.3002 - val_accuracy: 0.1105\n",
            "Epoch 8/100\n",
            "125/125 [==============================] - 1s 5ms/step - loss: 2.3022 - accuracy: 0.1109 - val_loss: 2.2994 - val_accuracy: 0.1105\n",
            "Epoch 9/100\n",
            "125/125 [==============================] - 1s 5ms/step - loss: 2.3020 - accuracy: 0.1128 - val_loss: 2.3003 - val_accuracy: 0.1105\n",
            "Epoch 10/100\n",
            "125/125 [==============================] - 1s 5ms/step - loss: 2.3020 - accuracy: 0.1106 - val_loss: 2.2992 - val_accuracy: 0.1105\n",
            "Epoch 11/100\n",
            "125/125 [==============================] - 1s 5ms/step - loss: 2.3023 - accuracy: 0.1103 - val_loss: 2.3003 - val_accuracy: 0.1105\n",
            "Epoch 12/100\n",
            "125/125 [==============================] - 1s 6ms/step - loss: 2.3021 - accuracy: 0.1115 - val_loss: 2.2997 - val_accuracy: 0.1085\n",
            "Epoch 13/100\n",
            "125/125 [==============================] - 1s 6ms/step - loss: 2.3020 - accuracy: 0.1082 - val_loss: 2.3012 - val_accuracy: 0.1105\n",
            "Epoch 14/100\n",
            "125/125 [==============================] - 1s 6ms/step - loss: 2.3018 - accuracy: 0.1112 - val_loss: 2.3010 - val_accuracy: 0.1105\n",
            "Epoch 15/100\n",
            "125/125 [==============================] - 1s 6ms/step - loss: 2.3019 - accuracy: 0.1144 - val_loss: 2.3000 - val_accuracy: 0.1085\n",
            "Epoch 16/100\n",
            "125/125 [==============================] - 1s 6ms/step - loss: 2.3023 - accuracy: 0.1077 - val_loss: 2.2997 - val_accuracy: 0.1105\n",
            "Epoch 17/100\n",
            "125/125 [==============================] - 1s 5ms/step - loss: 2.3021 - accuracy: 0.1109 - val_loss: 2.2991 - val_accuracy: 0.1105\n",
            "Epoch 18/100\n",
            "125/125 [==============================] - 1s 5ms/step - loss: 2.3020 - accuracy: 0.1116 - val_loss: 2.3021 - val_accuracy: 0.1105\n",
            "Epoch 19/100\n",
            "125/125 [==============================] - 1s 5ms/step - loss: 2.3022 - accuracy: 0.1134 - val_loss: 2.3012 - val_accuracy: 0.0905\n",
            "Epoch 20/100\n",
            "125/125 [==============================] - 1s 6ms/step - loss: 2.3026 - accuracy: 0.1088 - val_loss: 2.3002 - val_accuracy: 0.1085\n",
            "Epoch 21/100\n",
            "125/125 [==============================] - 1s 5ms/step - loss: 2.3018 - accuracy: 0.1064 - val_loss: 2.3003 - val_accuracy: 0.1085\n",
            "Epoch 22/100\n",
            "125/125 [==============================] - 1s 5ms/step - loss: 2.3020 - accuracy: 0.1150 - val_loss: 2.3008 - val_accuracy: 0.1105\n",
            "Epoch 23/100\n",
            "125/125 [==============================] - 1s 6ms/step - loss: 2.3020 - accuracy: 0.1120 - val_loss: 2.3018 - val_accuracy: 0.1105\n",
            "Epoch 24/100\n",
            "125/125 [==============================] - 1s 5ms/step - loss: 2.3023 - accuracy: 0.1140 - val_loss: 2.3007 - val_accuracy: 0.1085\n",
            "Epoch 25/100\n",
            "125/125 [==============================] - 1s 5ms/step - loss: 2.3022 - accuracy: 0.1111 - val_loss: 2.2993 - val_accuracy: 0.1105\n",
            "Epoch 26/100\n",
            "125/125 [==============================] - 1s 5ms/step - loss: 2.3021 - accuracy: 0.1082 - val_loss: 2.3010 - val_accuracy: 0.1105\n",
            "Epoch 27/100\n",
            "125/125 [==============================] - 1s 6ms/step - loss: 2.3023 - accuracy: 0.1111 - val_loss: 2.2992 - val_accuracy: 0.1105\n",
            "Epoch 28/100\n",
            "125/125 [==============================] - 1s 5ms/step - loss: 2.3019 - accuracy: 0.1139 - val_loss: 2.3011 - val_accuracy: 0.1085\n",
            "Epoch 29/100\n",
            "125/125 [==============================] - 1s 6ms/step - loss: 2.3019 - accuracy: 0.1054 - val_loss: 2.3017 - val_accuracy: 0.1085\n",
            "Epoch 30/100\n",
            "125/125 [==============================] - 1s 6ms/step - loss: 2.3024 - accuracy: 0.1100 - val_loss: 2.3002 - val_accuracy: 0.1105\n",
            "Epoch 31/100\n",
            "125/125 [==============================] - 1s 6ms/step - loss: 2.3018 - accuracy: 0.1095 - val_loss: 2.3015 - val_accuracy: 0.1105\n",
            "Epoch 32/100\n",
            "125/125 [==============================] - 1s 5ms/step - loss: 2.3021 - accuracy: 0.1121 - val_loss: 2.3000 - val_accuracy: 0.1105\n",
            "Epoch 33/100\n",
            "125/125 [==============================] - 1s 6ms/step - loss: 2.3022 - accuracy: 0.1091 - val_loss: 2.3012 - val_accuracy: 0.1105\n",
            "Epoch 34/100\n",
            "125/125 [==============================] - 1s 6ms/step - loss: 2.3023 - accuracy: 0.1099 - val_loss: 2.2999 - val_accuracy: 0.1105\n",
            "Epoch 35/100\n",
            "125/125 [==============================] - 1s 6ms/step - loss: 2.3025 - accuracy: 0.1098 - val_loss: 2.2999 - val_accuracy: 0.1105\n",
            "Epoch 36/100\n",
            "125/125 [==============================] - 1s 6ms/step - loss: 2.3021 - accuracy: 0.1101 - val_loss: 2.3000 - val_accuracy: 0.1105\n",
            "Epoch 37/100\n",
            "125/125 [==============================] - 1s 5ms/step - loss: 2.3022 - accuracy: 0.1112 - val_loss: 2.2999 - val_accuracy: 0.1105\n",
            "Epoch 38/100\n",
            "125/125 [==============================] - 1s 5ms/step - loss: 2.3019 - accuracy: 0.1109 - val_loss: 2.2992 - val_accuracy: 0.1105\n",
            "Epoch 39/100\n",
            "125/125 [==============================] - 1s 5ms/step - loss: 2.3022 - accuracy: 0.1109 - val_loss: 2.3007 - val_accuracy: 0.1105\n",
            "Epoch 40/100\n",
            "125/125 [==============================] - 1s 6ms/step - loss: 2.3022 - accuracy: 0.1117 - val_loss: 2.3001 - val_accuracy: 0.1105\n",
            "Epoch 41/100\n",
            "125/125 [==============================] - 1s 6ms/step - loss: 2.3020 - accuracy: 0.1136 - val_loss: 2.2998 - val_accuracy: 0.1085\n",
            "Epoch 42/100\n",
            "125/125 [==============================] - 1s 5ms/step - loss: 2.3022 - accuracy: 0.1093 - val_loss: 2.3003 - val_accuracy: 0.1085\n",
            "Epoch 43/100\n",
            "125/125 [==============================] - 1s 5ms/step - loss: 2.3018 - accuracy: 0.1145 - val_loss: 2.3003 - val_accuracy: 0.1105\n",
            "Epoch 44/100\n",
            "125/125 [==============================] - 1s 6ms/step - loss: 2.3018 - accuracy: 0.1136 - val_loss: 2.3001 - val_accuracy: 0.1085\n",
            "Epoch 45/100\n",
            "125/125 [==============================] - 1s 5ms/step - loss: 2.3023 - accuracy: 0.1089 - val_loss: 2.3003 - val_accuracy: 0.1105\n",
            "Epoch 46/100\n",
            "125/125 [==============================] - 1s 6ms/step - loss: 2.3021 - accuracy: 0.1094 - val_loss: 2.3006 - val_accuracy: 0.1105\n",
            "Epoch 47/100\n",
            "125/125 [==============================] - 1s 5ms/step - loss: 2.3019 - accuracy: 0.1106 - val_loss: 2.3003 - val_accuracy: 0.1085\n",
            "Epoch 48/100\n",
            "125/125 [==============================] - 1s 5ms/step - loss: 2.3017 - accuracy: 0.1110 - val_loss: 2.3001 - val_accuracy: 0.1105\n",
            "Epoch 49/100\n",
            "125/125 [==============================] - 1s 6ms/step - loss: 2.3023 - accuracy: 0.1111 - val_loss: 2.3018 - val_accuracy: 0.1105\n",
            "Epoch 50/100\n",
            "125/125 [==============================] - 1s 5ms/step - loss: 2.3022 - accuracy: 0.1112 - val_loss: 2.2999 - val_accuracy: 0.1085\n",
            "Epoch 51/100\n",
            "125/125 [==============================] - 1s 6ms/step - loss: 2.3022 - accuracy: 0.1119 - val_loss: 2.3012 - val_accuracy: 0.1105\n",
            "Epoch 52/100\n",
            "125/125 [==============================] - 1s 5ms/step - loss: 2.3022 - accuracy: 0.1116 - val_loss: 2.3007 - val_accuracy: 0.1105\n",
            "Epoch 53/100\n",
            "125/125 [==============================] - 1s 6ms/step - loss: 2.3021 - accuracy: 0.1106 - val_loss: 2.3011 - val_accuracy: 0.1105\n",
            "Epoch 54/100\n",
            "125/125 [==============================] - 1s 6ms/step - loss: 2.3018 - accuracy: 0.1072 - val_loss: 2.3014 - val_accuracy: 0.1105\n",
            "Epoch 55/100\n",
            "125/125 [==============================] - 1s 6ms/step - loss: 2.3017 - accuracy: 0.1115 - val_loss: 2.3011 - val_accuracy: 0.1105\n",
            "Epoch 56/100\n",
            "125/125 [==============================] - 1s 6ms/step - loss: 2.3025 - accuracy: 0.1109 - val_loss: 2.2998 - val_accuracy: 0.1105\n",
            "Epoch 57/100\n",
            "125/125 [==============================] - 1s 6ms/step - loss: 2.3021 - accuracy: 0.1119 - val_loss: 2.2993 - val_accuracy: 0.1105\n",
            "Epoch 58/100\n",
            "125/125 [==============================] - 1s 6ms/step - loss: 2.3021 - accuracy: 0.1105 - val_loss: 2.3007 - val_accuracy: 0.1105\n",
            "Epoch 59/100\n",
            "125/125 [==============================] - 1s 6ms/step - loss: 2.3020 - accuracy: 0.1121 - val_loss: 2.2996 - val_accuracy: 0.1085\n",
            "Epoch 60/100\n",
            "125/125 [==============================] - 1s 6ms/step - loss: 2.3024 - accuracy: 0.1131 - val_loss: 2.2998 - val_accuracy: 0.1105\n",
            "Epoch 61/100\n",
            "125/125 [==============================] - 1s 6ms/step - loss: 2.3019 - accuracy: 0.1105 - val_loss: 2.3003 - val_accuracy: 0.1105\n",
            "Epoch 62/100\n",
            "125/125 [==============================] - 1s 6ms/step - loss: 2.3023 - accuracy: 0.1110 - val_loss: 2.3005 - val_accuracy: 0.1105\n",
            "Epoch 63/100\n",
            "125/125 [==============================] - 1s 5ms/step - loss: 2.3021 - accuracy: 0.1082 - val_loss: 2.3015 - val_accuracy: 0.1105\n",
            "Epoch 64/100\n",
            "125/125 [==============================] - 1s 6ms/step - loss: 2.3020 - accuracy: 0.1116 - val_loss: 2.2997 - val_accuracy: 0.1105\n",
            "Epoch 65/100\n",
            "125/125 [==============================] - 1s 5ms/step - loss: 2.3023 - accuracy: 0.1111 - val_loss: 2.2997 - val_accuracy: 0.1105\n",
            "Epoch 66/100\n",
            "125/125 [==============================] - 1s 5ms/step - loss: 2.3020 - accuracy: 0.1115 - val_loss: 2.2993 - val_accuracy: 0.1105\n",
            "Epoch 67/100\n",
            "125/125 [==============================] - 1s 6ms/step - loss: 2.3021 - accuracy: 0.1089 - val_loss: 2.2998 - val_accuracy: 0.1105\n",
            "Epoch 68/100\n",
            "125/125 [==============================] - 1s 6ms/step - loss: 2.3020 - accuracy: 0.1104 - val_loss: 2.3003 - val_accuracy: 0.1105\n",
            "Epoch 69/100\n",
            "125/125 [==============================] - 1s 6ms/step - loss: 2.3020 - accuracy: 0.1123 - val_loss: 2.2996 - val_accuracy: 0.1085\n",
            "Epoch 70/100\n",
            "125/125 [==============================] - 1s 5ms/step - loss: 2.3023 - accuracy: 0.1079 - val_loss: 2.2996 - val_accuracy: 0.1105\n",
            "Epoch 71/100\n",
            "125/125 [==============================] - 1s 6ms/step - loss: 2.3024 - accuracy: 0.1128 - val_loss: 2.3002 - val_accuracy: 0.1105\n",
            "Epoch 72/100\n",
            "125/125 [==============================] - 1s 5ms/step - loss: 2.3019 - accuracy: 0.1099 - val_loss: 2.3011 - val_accuracy: 0.1105\n",
            "Epoch 73/100\n",
            "125/125 [==============================] - 1s 6ms/step - loss: 2.3020 - accuracy: 0.1116 - val_loss: 2.2999 - val_accuracy: 0.1085\n",
            "Epoch 74/100\n",
            "125/125 [==============================] - 1s 6ms/step - loss: 2.3019 - accuracy: 0.1121 - val_loss: 2.2996 - val_accuracy: 0.1105\n",
            "Epoch 75/100\n",
            "125/125 [==============================] - 1s 6ms/step - loss: 2.3017 - accuracy: 0.1111 - val_loss: 2.3021 - val_accuracy: 0.0905\n",
            "Epoch 76/100\n",
            "125/125 [==============================] - 1s 6ms/step - loss: 2.3023 - accuracy: 0.1071 - val_loss: 2.2994 - val_accuracy: 0.1105\n",
            "Epoch 77/100\n",
            "125/125 [==============================] - 1s 6ms/step - loss: 2.3019 - accuracy: 0.1084 - val_loss: 2.3010 - val_accuracy: 0.1105\n",
            "Epoch 78/100\n",
            "125/125 [==============================] - 1s 6ms/step - loss: 2.3019 - accuracy: 0.1133 - val_loss: 2.3004 - val_accuracy: 0.1105\n",
            "Epoch 79/100\n",
            "125/125 [==============================] - 1s 5ms/step - loss: 2.3020 - accuracy: 0.1144 - val_loss: 2.3006 - val_accuracy: 0.1085\n",
            "Epoch 80/100\n",
            "125/125 [==============================] - 1s 5ms/step - loss: 2.3022 - accuracy: 0.1091 - val_loss: 2.2993 - val_accuracy: 0.1105\n",
            "Epoch 81/100\n",
            "125/125 [==============================] - 1s 5ms/step - loss: 2.3023 - accuracy: 0.1120 - val_loss: 2.3007 - val_accuracy: 0.1105\n",
            "Epoch 82/100\n",
            "125/125 [==============================] - 1s 6ms/step - loss: 2.3022 - accuracy: 0.1119 - val_loss: 2.3005 - val_accuracy: 0.1105\n",
            "Epoch 83/100\n",
            "125/125 [==============================] - 1s 6ms/step - loss: 2.3018 - accuracy: 0.1082 - val_loss: 2.2992 - val_accuracy: 0.1085\n",
            "Epoch 84/100\n",
            "125/125 [==============================] - 1s 6ms/step - loss: 2.3024 - accuracy: 0.1100 - val_loss: 2.2996 - val_accuracy: 0.1105\n",
            "Epoch 85/100\n",
            "125/125 [==============================] - 1s 5ms/step - loss: 2.3019 - accuracy: 0.1111 - val_loss: 2.3005 - val_accuracy: 0.1105\n",
            "Epoch 86/100\n",
            "125/125 [==============================] - 1s 6ms/step - loss: 2.3019 - accuracy: 0.1112 - val_loss: 2.3001 - val_accuracy: 0.1105\n",
            "Epoch 87/100\n",
            "125/125 [==============================] - 1s 6ms/step - loss: 2.3023 - accuracy: 0.1089 - val_loss: 2.3005 - val_accuracy: 0.1105\n",
            "Epoch 88/100\n",
            "125/125 [==============================] - 1s 6ms/step - loss: 2.3019 - accuracy: 0.1126 - val_loss: 2.3003 - val_accuracy: 0.1105\n",
            "Epoch 89/100\n",
            "125/125 [==============================] - 1s 5ms/step - loss: 2.3024 - accuracy: 0.1104 - val_loss: 2.3005 - val_accuracy: 0.1105\n",
            "Epoch 90/100\n",
            "125/125 [==============================] - 1s 6ms/step - loss: 2.3022 - accuracy: 0.1109 - val_loss: 2.2997 - val_accuracy: 0.1105\n",
            "Epoch 91/100\n",
            "125/125 [==============================] - 1s 6ms/step - loss: 2.3022 - accuracy: 0.1105 - val_loss: 2.3008 - val_accuracy: 0.1105\n",
            "Epoch 92/100\n",
            "125/125 [==============================] - 1s 5ms/step - loss: 2.3023 - accuracy: 0.1115 - val_loss: 2.2995 - val_accuracy: 0.1105\n",
            "Epoch 93/100\n",
            "125/125 [==============================] - 1s 6ms/step - loss: 2.3021 - accuracy: 0.1109 - val_loss: 2.2995 - val_accuracy: 0.1105\n",
            "Epoch 94/100\n",
            "125/125 [==============================] - 1s 6ms/step - loss: 2.3021 - accuracy: 0.1110 - val_loss: 2.3006 - val_accuracy: 0.1085\n",
            "Epoch 95/100\n",
            "125/125 [==============================] - 1s 5ms/step - loss: 2.3021 - accuracy: 0.1111 - val_loss: 2.3003 - val_accuracy: 0.1105\n",
            "Epoch 96/100\n",
            "125/125 [==============================] - 1s 6ms/step - loss: 2.3020 - accuracy: 0.1129 - val_loss: 2.2996 - val_accuracy: 0.1105\n",
            "Epoch 97/100\n",
            "125/125 [==============================] - 1s 6ms/step - loss: 2.3017 - accuracy: 0.1096 - val_loss: 2.3000 - val_accuracy: 0.1105\n",
            "Epoch 98/100\n",
            "125/125 [==============================] - 1s 6ms/step - loss: 2.3022 - accuracy: 0.1129 - val_loss: 2.2995 - val_accuracy: 0.1085\n",
            "Epoch 99/100\n",
            "125/125 [==============================] - 1s 6ms/step - loss: 2.3022 - accuracy: 0.1098 - val_loss: 2.2997 - val_accuracy: 0.1105\n",
            "Epoch 100/100\n",
            "125/125 [==============================] - 1s 5ms/step - loss: 2.3021 - accuracy: 0.1101 - val_loss: 2.3012 - val_accuracy: 0.1105\n"
          ]
        }
      ]
    },
    {
      "cell_type": "code",
      "metadata": {
        "id": "xx_-MDKYvOnE"
      },
      "source": [
        "from tensorflow.keras.models import Sequential\n",
        "from tensorflow.keras.layers import Dense,Flatten \n",
        "def create_model():\n",
        "  model=Sequential([\n",
        "                    Flatten(input_shape=(28,28)),\n",
        "                    Dense(300,activation='softmax'),\n",
        "                    Dense(100,activation='softmax'),\n",
        "                    Dense(10,activation='softmax'),\n",
        "\n",
        "  ])\n",
        "  return model"
      ],
      "execution_count": 163,
      "outputs": []
    },
    {
      "cell_type": "code",
      "metadata": {
        "colab": {
          "base_uri": "https://localhost:8080/"
        },
        "id": "QL0TK7zGvd5i",
        "outputId": "f3537578-ae77-4b6d-84bc-ae96509f5e0e"
      },
      "source": [
        "model=create_model()\n",
        "sgd = tensorflow.optimizers.SGD(learning_rate=0.01)\n",
        "model.compile(\n",
        "    optimizer='sgd',\n",
        "    loss='sparse_categorical_crossentropy',\n",
        "    metrics=['accuracy']\n",
        ")\n",
        "\n",
        "from tensorflow.keras.callbacks import LearningRateScheduler\n",
        "\n",
        "intial_learning_rate = 0.01\n",
        "epochs = 100\n",
        "decay = intial_learning_rate / epochs\n",
        "\n",
        "def lr_time_based_decay(epoch , lr):\n",
        "  return lr * 1 / (1 + decay * epoch)\n",
        "\n",
        "  tf.keras.callbacks.EarlyStopping(\n",
        "    monitor='val_loss', min_delta=0, verbose=1,\n",
        "    mode='auto', restore_best_weights=False\n",
        ")\n",
        "\n",
        "history_decaytime=model.fit(\n",
        "    Train_x,\n",
        "    Train_y,\n",
        "    epochs=30,\n",
        "    validation_split=0.2,\n",
        "    batch_size=64\n",
        ")\n",
        "\n"
      ],
      "execution_count": 177,
      "outputs": [
        {
          "output_type": "stream",
          "name": "stdout",
          "text": [
            "Epoch 1/30\n",
            "125/125 [==============================] - 1s 7ms/step - loss: 2.3399 - accuracy: 0.0980 - val_loss: 2.3008 - val_accuracy: 0.1105\n",
            "Epoch 2/30\n",
            "125/125 [==============================] - 1s 6ms/step - loss: 2.3022 - accuracy: 0.1110 - val_loss: 2.3004 - val_accuracy: 0.1085\n",
            "Epoch 3/30\n",
            "125/125 [==============================] - 1s 6ms/step - loss: 2.3023 - accuracy: 0.1070 - val_loss: 2.2990 - val_accuracy: 0.1105\n",
            "Epoch 4/30\n",
            "125/125 [==============================] - 1s 6ms/step - loss: 2.3023 - accuracy: 0.1082 - val_loss: 2.3010 - val_accuracy: 0.1105\n",
            "Epoch 5/30\n",
            "125/125 [==============================] - 1s 5ms/step - loss: 2.3022 - accuracy: 0.1112 - val_loss: 2.3006 - val_accuracy: 0.1105\n",
            "Epoch 6/30\n",
            "125/125 [==============================] - 1s 6ms/step - loss: 2.3024 - accuracy: 0.1106 - val_loss: 2.3003 - val_accuracy: 0.1105\n",
            "Epoch 7/30\n",
            "125/125 [==============================] - 1s 6ms/step - loss: 2.3019 - accuracy: 0.1103 - val_loss: 2.3000 - val_accuracy: 0.1085\n",
            "Epoch 8/30\n",
            "125/125 [==============================] - 1s 6ms/step - loss: 2.3020 - accuracy: 0.1128 - val_loss: 2.3007 - val_accuracy: 0.1085\n",
            "Epoch 9/30\n",
            "125/125 [==============================] - 1s 5ms/step - loss: 2.3022 - accuracy: 0.1094 - val_loss: 2.2999 - val_accuracy: 0.1105\n",
            "Epoch 10/30\n",
            "125/125 [==============================] - 1s 5ms/step - loss: 2.3021 - accuracy: 0.1105 - val_loss: 2.3004 - val_accuracy: 0.1105\n",
            "Epoch 11/30\n",
            "125/125 [==============================] - 1s 6ms/step - loss: 2.3023 - accuracy: 0.1100 - val_loss: 2.3001 - val_accuracy: 0.1105\n",
            "Epoch 12/30\n",
            "125/125 [==============================] - 1s 6ms/step - loss: 2.3023 - accuracy: 0.1107 - val_loss: 2.2993 - val_accuracy: 0.1105\n",
            "Epoch 13/30\n",
            "125/125 [==============================] - 1s 5ms/step - loss: 2.3024 - accuracy: 0.1104 - val_loss: 2.3010 - val_accuracy: 0.1085\n",
            "Epoch 14/30\n",
            "125/125 [==============================] - 1s 5ms/step - loss: 2.3023 - accuracy: 0.1045 - val_loss: 2.3010 - val_accuracy: 0.1105\n",
            "Epoch 15/30\n",
            "125/125 [==============================] - 1s 6ms/step - loss: 2.3024 - accuracy: 0.1119 - val_loss: 2.3006 - val_accuracy: 0.1105\n",
            "Epoch 16/30\n",
            "125/125 [==============================] - 1s 6ms/step - loss: 2.3023 - accuracy: 0.1129 - val_loss: 2.3017 - val_accuracy: 0.1105\n",
            "Epoch 17/30\n",
            "125/125 [==============================] - 1s 6ms/step - loss: 2.3024 - accuracy: 0.1126 - val_loss: 2.3000 - val_accuracy: 0.1105\n",
            "Epoch 18/30\n",
            "125/125 [==============================] - 1s 6ms/step - loss: 2.3024 - accuracy: 0.1125 - val_loss: 2.3015 - val_accuracy: 0.1105\n",
            "Epoch 19/30\n",
            "125/125 [==============================] - 1s 6ms/step - loss: 2.3023 - accuracy: 0.1111 - val_loss: 2.2996 - val_accuracy: 0.1105\n",
            "Epoch 20/30\n",
            "125/125 [==============================] - 1s 5ms/step - loss: 2.3024 - accuracy: 0.1124 - val_loss: 2.3016 - val_accuracy: 0.1105\n",
            "Epoch 21/30\n",
            "125/125 [==============================] - 1s 5ms/step - loss: 2.3022 - accuracy: 0.1096 - val_loss: 2.3004 - val_accuracy: 0.1105\n",
            "Epoch 22/30\n",
            "125/125 [==============================] - 1s 6ms/step - loss: 2.3022 - accuracy: 0.1104 - val_loss: 2.2992 - val_accuracy: 0.1080\n",
            "Epoch 23/30\n",
            "125/125 [==============================] - 1s 6ms/step - loss: 2.3022 - accuracy: 0.1089 - val_loss: 2.3006 - val_accuracy: 0.1105\n",
            "Epoch 24/30\n",
            "125/125 [==============================] - 1s 6ms/step - loss: 2.3022 - accuracy: 0.1123 - val_loss: 2.3020 - val_accuracy: 0.1105\n",
            "Epoch 25/30\n",
            "125/125 [==============================] - 1s 5ms/step - loss: 2.3021 - accuracy: 0.1095 - val_loss: 2.3018 - val_accuracy: 0.1105\n",
            "Epoch 26/30\n",
            "125/125 [==============================] - 1s 6ms/step - loss: 2.3020 - accuracy: 0.1093 - val_loss: 2.3019 - val_accuracy: 0.1105\n",
            "Epoch 27/30\n",
            "125/125 [==============================] - 1s 6ms/step - loss: 2.3026 - accuracy: 0.1109 - val_loss: 2.3013 - val_accuracy: 0.1105\n",
            "Epoch 28/30\n",
            "125/125 [==============================] - 1s 6ms/step - loss: 2.3022 - accuracy: 0.1105 - val_loss: 2.2995 - val_accuracy: 0.1105\n",
            "Epoch 29/30\n",
            "125/125 [==============================] - 1s 5ms/step - loss: 2.3023 - accuracy: 0.1091 - val_loss: 2.3013 - val_accuracy: 0.1105\n",
            "Epoch 30/30\n",
            "125/125 [==============================] - 1s 6ms/step - loss: 2.3022 - accuracy: 0.1128 - val_loss: 2.2998 - val_accuracy: 0.1105\n"
          ]
        }
      ]
    },
    {
      "cell_type": "markdown",
      "metadata": {
        "id": "Mf1ORRFox-2u"
      },
      "source": [
        "#Sigmoid"
      ]
    },
    {
      "cell_type": "code",
      "metadata": {
        "id": "OLnZm2utv3bP"
      },
      "source": [
        "from tensorflow.keras.models import Sequential\n",
        "from tensorflow.keras.layers import Dense,Flatten \n",
        "def create_model():\n",
        "  model=Sequential([\n",
        "                    Flatten(input_shape=(28,28)),\n",
        "                    Dense(300,activation='sigmoid'),\n",
        "                    Dense(100,activation='sigmoid'),\n",
        "                    Dense(10,activation='sigmoid'),\n",
        "\n",
        "  ])\n",
        "  return model"
      ],
      "execution_count": 171,
      "outputs": []
    },
    {
      "cell_type": "code",
      "metadata": {
        "colab": {
          "base_uri": "https://localhost:8080/"
        },
        "id": "Ans_wTi0wZV4",
        "outputId": "dcdeb925-ef15-4e9e-e929-10996d8ca6bd"
      },
      "source": [
        "!pip install -U tensorflow-addons\n",
        "import tensorflow_addons as tfa"
      ],
      "execution_count": 172,
      "outputs": [
        {
          "output_type": "stream",
          "name": "stdout",
          "text": [
            "Requirement already satisfied: tensorflow-addons in /usr/local/lib/python3.7/dist-packages (0.14.0)\n",
            "Requirement already satisfied: typeguard>=2.7 in /usr/local/lib/python3.7/dist-packages (from tensorflow-addons) (2.7.1)\n"
          ]
        }
      ]
    },
    {
      "cell_type": "code",
      "metadata": {
        "colab": {
          "base_uri": "https://localhost:8080/"
        },
        "id": "2LVmKT01v8De",
        "outputId": "ebc96425-54cc-41df-f758-582fd51bd9ea"
      },
      "source": [
        "model=create_model()\n",
        "sgd = tensorflow.optimizers.SGD(learning_rate=0.01)\n",
        "model.compile(\n",
        "    optimizer=tfa.optimizers.LazyAdam(0.005),\n",
        "    loss='sparse_categorical_crossentropy',\n",
        "    metrics=['accuracy']\n",
        ")\n",
        "tf.keras.callbacks.EarlyStopping(\n",
        "    monitor='val_loss', min_delta=0, verbose=1,\n",
        "    mode='auto', restore_best_weights=False\n",
        ")\n",
        "history_constant=model.fit(\n",
        "    Train_x,\n",
        "    Train_y,\n",
        "    epochs=110,\n",
        "    validation_split=0.2,\n",
        "    batch_size=64\n",
        ")"
      ],
      "execution_count": null,
      "outputs": [
        {
          "output_type": "stream",
          "name": "stdout",
          "text": [
            "Epoch 1/110\n",
            "125/125 [==============================] - 1s 8ms/step - loss: 2.3220 - accuracy: 0.1100 - val_loss: 2.3140 - val_accuracy: 0.1385\n",
            "Epoch 2/110\n",
            "125/125 [==============================] - 1s 6ms/step - loss: 2.2823 - accuracy: 0.1406 - val_loss: 2.2101 - val_accuracy: 0.2200\n",
            "Epoch 3/110\n",
            "125/125 [==============================] - 1s 6ms/step - loss: 1.9853 - accuracy: 0.2880 - val_loss: 1.6468 - val_accuracy: 0.4320\n",
            "Epoch 4/110\n",
            "125/125 [==============================] - 1s 7ms/step - loss: 1.2815 - accuracy: 0.5594 - val_loss: 1.0188 - val_accuracy: 0.6410\n",
            "Epoch 5/110\n",
            "125/125 [==============================] - 1s 6ms/step - loss: 0.9070 - accuracy: 0.6827 - val_loss: 0.9268 - val_accuracy: 0.6740\n",
            "Epoch 6/110\n",
            "125/125 [==============================] - 1s 6ms/step - loss: 0.8048 - accuracy: 0.7157 - val_loss: 0.8616 - val_accuracy: 0.6820\n",
            "Epoch 7/110\n",
            "125/125 [==============================] - 1s 7ms/step - loss: 0.7341 - accuracy: 0.7501 - val_loss: 0.7717 - val_accuracy: 0.7485\n",
            "Epoch 8/110\n",
            "125/125 [==============================] - 1s 6ms/step - loss: 0.6862 - accuracy: 0.7710 - val_loss: 0.7000 - val_accuracy: 0.7725\n",
            "Epoch 9/110\n",
            "125/125 [==============================] - 1s 7ms/step - loss: 0.6421 - accuracy: 0.7925 - val_loss: 0.7082 - val_accuracy: 0.7735\n",
            "Epoch 10/110\n",
            "125/125 [==============================] - 1s 7ms/step - loss: 0.5898 - accuracy: 0.8086 - val_loss: 0.6661 - val_accuracy: 0.8045\n",
            "Epoch 11/110\n",
            "125/125 [==============================] - 1s 7ms/step - loss: 0.5307 - accuracy: 0.8374 - val_loss: 0.5812 - val_accuracy: 0.8245\n",
            "Epoch 12/110\n",
            "125/125 [==============================] - 1s 7ms/step - loss: 0.5079 - accuracy: 0.8439 - val_loss: 0.6034 - val_accuracy: 0.8215\n",
            "Epoch 13/110\n",
            "125/125 [==============================] - 1s 7ms/step - loss: 0.4912 - accuracy: 0.8487 - val_loss: 0.5630 - val_accuracy: 0.8395\n",
            "Epoch 14/110\n",
            "125/125 [==============================] - 1s 7ms/step - loss: 0.4574 - accuracy: 0.8612 - val_loss: 0.5369 - val_accuracy: 0.8500\n",
            "Epoch 15/110\n",
            "125/125 [==============================] - 1s 7ms/step - loss: 0.4295 - accuracy: 0.8700 - val_loss: 0.5097 - val_accuracy: 0.8550\n",
            "Epoch 16/110\n",
            "125/125 [==============================] - 1s 7ms/step - loss: 0.4168 - accuracy: 0.8754 - val_loss: 0.4815 - val_accuracy: 0.8695\n",
            "Epoch 17/110\n",
            "125/125 [==============================] - 1s 7ms/step - loss: 0.3933 - accuracy: 0.8801 - val_loss: 0.4973 - val_accuracy: 0.8665\n",
            "Epoch 18/110\n",
            "125/125 [==============================] - 1s 7ms/step - loss: 0.3894 - accuracy: 0.8783 - val_loss: 0.4773 - val_accuracy: 0.8615\n",
            "Epoch 19/110\n",
            "125/125 [==============================] - 1s 7ms/step - loss: 0.3688 - accuracy: 0.8890 - val_loss: 0.4486 - val_accuracy: 0.8795\n",
            "Epoch 20/110\n",
            "125/125 [==============================] - 1s 7ms/step - loss: 0.3621 - accuracy: 0.8923 - val_loss: 0.4486 - val_accuracy: 0.8770\n",
            "Epoch 21/110\n",
            "125/125 [==============================] - 1s 7ms/step - loss: 0.3504 - accuracy: 0.8955 - val_loss: 0.4831 - val_accuracy: 0.8670\n",
            "Epoch 22/110\n",
            "125/125 [==============================] - 1s 7ms/step - loss: 0.3521 - accuracy: 0.8910 - val_loss: 0.4566 - val_accuracy: 0.8700\n",
            "Epoch 23/110\n",
            "125/125 [==============================] - 1s 7ms/step - loss: 0.3414 - accuracy: 0.8969 - val_loss: 0.4267 - val_accuracy: 0.8825\n",
            "Epoch 24/110\n",
            "125/125 [==============================] - 1s 7ms/step - loss: 0.3317 - accuracy: 0.9009 - val_loss: 0.4184 - val_accuracy: 0.8810\n",
            "Epoch 25/110\n",
            "125/125 [==============================] - 1s 7ms/step - loss: 0.3218 - accuracy: 0.9034 - val_loss: 0.3929 - val_accuracy: 0.8940\n",
            "Epoch 26/110\n",
            "125/125 [==============================] - 1s 7ms/step - loss: 0.3247 - accuracy: 0.9026 - val_loss: 0.4175 - val_accuracy: 0.8855\n",
            "Epoch 27/110\n",
            "125/125 [==============================] - 1s 7ms/step - loss: 0.3076 - accuracy: 0.9091 - val_loss: 0.4263 - val_accuracy: 0.8815\n",
            "Epoch 28/110\n",
            "125/125 [==============================] - 1s 7ms/step - loss: 0.3005 - accuracy: 0.9101 - val_loss: 0.3905 - val_accuracy: 0.8945\n",
            "Epoch 29/110\n",
            "125/125 [==============================] - 1s 7ms/step - loss: 0.3050 - accuracy: 0.9070 - val_loss: 0.4101 - val_accuracy: 0.8940\n",
            "Epoch 30/110\n",
            "125/125 [==============================] - 1s 7ms/step - loss: 0.3015 - accuracy: 0.9078 - val_loss: 0.4757 - val_accuracy: 0.8690\n",
            "Epoch 31/110\n",
            "125/125 [==============================] - 1s 7ms/step - loss: 0.3004 - accuracy: 0.9074 - val_loss: 0.4204 - val_accuracy: 0.8825\n",
            "Epoch 32/110\n",
            "125/125 [==============================] - 1s 9ms/step - loss: 0.3020 - accuracy: 0.9089 - val_loss: 0.4023 - val_accuracy: 0.8875\n",
            "Epoch 33/110\n",
            "125/125 [==============================] - 1s 7ms/step - loss: 0.2954 - accuracy: 0.9075 - val_loss: 0.3914 - val_accuracy: 0.8920\n",
            "Epoch 34/110\n",
            "125/125 [==============================] - 1s 7ms/step - loss: 0.2860 - accuracy: 0.9131 - val_loss: 0.3898 - val_accuracy: 0.8900\n",
            "Epoch 35/110\n",
            "125/125 [==============================] - 1s 7ms/step - loss: 0.2719 - accuracy: 0.9195 - val_loss: 0.3803 - val_accuracy: 0.8990\n",
            "Epoch 36/110\n",
            "125/125 [==============================] - 1s 7ms/step - loss: 0.2735 - accuracy: 0.9186 - val_loss: 0.3832 - val_accuracy: 0.8970\n",
            "Epoch 37/110\n",
            "125/125 [==============================] - 1s 7ms/step - loss: 0.2621 - accuracy: 0.9231 - val_loss: 0.3675 - val_accuracy: 0.9010\n",
            "Epoch 38/110\n",
            "125/125 [==============================] - 1s 9ms/step - loss: 0.2683 - accuracy: 0.9185 - val_loss: 0.4485 - val_accuracy: 0.8795\n",
            "Epoch 39/110\n",
            "125/125 [==============================] - 1s 10ms/step - loss: 0.2658 - accuracy: 0.9209 - val_loss: 0.3823 - val_accuracy: 0.8990\n",
            "Epoch 40/110\n",
            "125/125 [==============================] - 1s 9ms/step - loss: 0.2686 - accuracy: 0.9201 - val_loss: 0.4003 - val_accuracy: 0.8835\n",
            "Epoch 41/110\n",
            " 10/125 [=>............................] - ETA: 0s - loss: 0.2490 - accuracy: 0.9281"
          ]
        }
      ]
    },
    {
      "cell_type": "markdown",
      "metadata": {
        "id": "sCtlysn2gWvK"
      },
      "source": [
        ""
      ]
    }
  ]
}