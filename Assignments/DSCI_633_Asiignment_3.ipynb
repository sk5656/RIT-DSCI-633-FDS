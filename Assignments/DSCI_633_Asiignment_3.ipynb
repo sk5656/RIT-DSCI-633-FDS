{
  "nbformat": 4,
  "nbformat_minor": 0,
  "metadata": {
    "kernelspec": {
      "display_name": "Python 3",
      "language": "python",
      "name": "python3"
    },
    "language_info": {
      "name": "python",
      "version": "3.6.6",
      "mimetype": "text/x-python",
      "codemirror_mode": {
        "name": "ipython",
        "version": 3
      },
      "pygments_lexer": "ipython3",
      "nbconvert_exporter": "python",
      "file_extension": ".py"
    },
    "colab": {
      "name": "DSCI-633-Asiignment -3",
      "provenance": [],
      "collapsed_sections": []
    }
  },
  "cells": [
    {
      "cell_type": "markdown",
      "metadata": {
        "id": "xqaQ7Z73H83T"
      },
      "source": [
        "#Setting up the Environment\n"
      ]
    },
    {
      "cell_type": "code",
      "metadata": {
        "_uuid": "8f2839f25d086af736a60e9eeb907d3b93b6e0e5",
        "_cell_guid": "b1076dfc-b9ad-4769-8c92-a6c4dae69d19",
        "execution": {
          "iopub.status.busy": "2021-09-21T05:49:55.495982Z",
          "iopub.execute_input": "2021-09-21T05:49:55.496430Z",
          "iopub.status.idle": "2021-09-21T05:49:55.504832Z",
          "shell.execute_reply.started": "2021-09-21T05:49:55.496361Z",
          "shell.execute_reply": "2021-09-21T05:49:55.503855Z"
        },
        "trusted": true,
        "id": "38OTzbk6-sYh"
      },
      "source": [
        "# This Python 3 environment comes with many helpful analytics libraries installed\n",
        "# For example, here's several helpful packages to load in \n",
        "\n",
        "import numpy as np # linear algebra\n",
        "import pandas as pd # data processing, CSV file I/O (e.g. pd.read_csv)\n",
        "\n",
        "# Input data files are available in the \"../input/\" directory.\n",
        "# For example, running this (by clicking run or pressing Shift+Enter) will list the files in the input directory\n",
        "\n",
        "#import os\n",
        "#print(os.listdir(\"../sample_data\"))\n",
        "# Any results you write to the current directory are saved as output."
      ],
      "execution_count": 67,
      "outputs": []
    },
    {
      "cell_type": "markdown",
      "metadata": {
        "id": "PVgsAjFOIG5Q"
      },
      "source": [
        "#Loading data"
      ]
    },
    {
      "cell_type": "code",
      "metadata": {
        "_cell_guid": "79c7e3d0-c299-4dcb-8224-4455121ee9b0",
        "_uuid": "d629ff2d2480ee46fbb7e2d37f6b5fab8052498a",
        "execution": {
          "iopub.status.busy": "2021-09-21T05:49:55.506404Z",
          "iopub.execute_input": "2021-09-21T05:49:55.506714Z",
          "iopub.status.idle": "2021-09-21T05:49:55.558609Z",
          "shell.execute_reply.started": "2021-09-21T05:49:55.506671Z",
          "shell.execute_reply": "2021-09-21T05:49:55.557609Z"
        },
        "trusted": true,
        "colab": {
          "base_uri": "https://localhost:8080/",
          "height": 272
        },
        "id": "9w6eF0re-sYk",
        "outputId": "56d22540-6286-4bf8-caa6-b130952c27dd"
      },
      "source": [
        "train=pd.read_csv('../content/sample_data/train[1].csv')#/content/sample_data/train[1].csv\n",
        "train.head(5)"
      ],
      "execution_count": 68,
      "outputs": [
        {
          "output_type": "execute_result",
          "data": {
            "text/html": [
              "<div>\n",
              "<style scoped>\n",
              "    .dataframe tbody tr th:only-of-type {\n",
              "        vertical-align: middle;\n",
              "    }\n",
              "\n",
              "    .dataframe tbody tr th {\n",
              "        vertical-align: top;\n",
              "    }\n",
              "\n",
              "    .dataframe thead th {\n",
              "        text-align: right;\n",
              "    }\n",
              "</style>\n",
              "<table border=\"1\" class=\"dataframe\">\n",
              "  <thead>\n",
              "    <tr style=\"text-align: right;\">\n",
              "      <th></th>\n",
              "      <th>PassengerId</th>\n",
              "      <th>Survived</th>\n",
              "      <th>Pclass</th>\n",
              "      <th>Name</th>\n",
              "      <th>Sex</th>\n",
              "      <th>Age</th>\n",
              "      <th>SibSp</th>\n",
              "      <th>Parch</th>\n",
              "      <th>Ticket</th>\n",
              "      <th>Fare</th>\n",
              "      <th>Cabin</th>\n",
              "      <th>Embarked</th>\n",
              "    </tr>\n",
              "  </thead>\n",
              "  <tbody>\n",
              "    <tr>\n",
              "      <th>0</th>\n",
              "      <td>1</td>\n",
              "      <td>0</td>\n",
              "      <td>3</td>\n",
              "      <td>Braund, Mr. Owen Harris</td>\n",
              "      <td>male</td>\n",
              "      <td>22.0</td>\n",
              "      <td>1</td>\n",
              "      <td>0</td>\n",
              "      <td>A/5 21171</td>\n",
              "      <td>7.2500</td>\n",
              "      <td>NaN</td>\n",
              "      <td>S</td>\n",
              "    </tr>\n",
              "    <tr>\n",
              "      <th>1</th>\n",
              "      <td>2</td>\n",
              "      <td>1</td>\n",
              "      <td>1</td>\n",
              "      <td>Cumings, Mrs. John Bradley (Florence Briggs Th...</td>\n",
              "      <td>female</td>\n",
              "      <td>38.0</td>\n",
              "      <td>1</td>\n",
              "      <td>0</td>\n",
              "      <td>PC 17599</td>\n",
              "      <td>71.2833</td>\n",
              "      <td>C85</td>\n",
              "      <td>C</td>\n",
              "    </tr>\n",
              "    <tr>\n",
              "      <th>2</th>\n",
              "      <td>3</td>\n",
              "      <td>1</td>\n",
              "      <td>3</td>\n",
              "      <td>Heikkinen, Miss. Laina</td>\n",
              "      <td>female</td>\n",
              "      <td>26.0</td>\n",
              "      <td>0</td>\n",
              "      <td>0</td>\n",
              "      <td>STON/O2. 3101282</td>\n",
              "      <td>7.9250</td>\n",
              "      <td>NaN</td>\n",
              "      <td>S</td>\n",
              "    </tr>\n",
              "    <tr>\n",
              "      <th>3</th>\n",
              "      <td>4</td>\n",
              "      <td>1</td>\n",
              "      <td>1</td>\n",
              "      <td>Futrelle, Mrs. Jacques Heath (Lily May Peel)</td>\n",
              "      <td>female</td>\n",
              "      <td>35.0</td>\n",
              "      <td>1</td>\n",
              "      <td>0</td>\n",
              "      <td>113803</td>\n",
              "      <td>53.1000</td>\n",
              "      <td>C123</td>\n",
              "      <td>S</td>\n",
              "    </tr>\n",
              "    <tr>\n",
              "      <th>4</th>\n",
              "      <td>5</td>\n",
              "      <td>0</td>\n",
              "      <td>3</td>\n",
              "      <td>Allen, Mr. William Henry</td>\n",
              "      <td>male</td>\n",
              "      <td>35.0</td>\n",
              "      <td>0</td>\n",
              "      <td>0</td>\n",
              "      <td>373450</td>\n",
              "      <td>8.0500</td>\n",
              "      <td>NaN</td>\n",
              "      <td>S</td>\n",
              "    </tr>\n",
              "  </tbody>\n",
              "</table>\n",
              "</div>"
            ],
            "text/plain": [
              "   PassengerId  Survived  Pclass  ...     Fare Cabin  Embarked\n",
              "0            1         0       3  ...   7.2500   NaN         S\n",
              "1            2         1       1  ...  71.2833   C85         C\n",
              "2            3         1       3  ...   7.9250   NaN         S\n",
              "3            4         1       1  ...  53.1000  C123         S\n",
              "4            5         0       3  ...   8.0500   NaN         S\n",
              "\n",
              "[5 rows x 12 columns]"
            ]
          },
          "metadata": {},
          "execution_count": 68
        }
      ]
    },
    {
      "cell_type": "code",
      "metadata": {
        "_uuid": "19b2eb70a62616c31af81d0b8c970db8c97f4669",
        "execution": {
          "iopub.status.busy": "2021-09-21T05:49:55.559989Z",
          "iopub.execute_input": "2021-09-21T05:49:55.560497Z",
          "iopub.status.idle": "2021-09-21T05:49:55.600848Z",
          "shell.execute_reply.started": "2021-09-21T05:49:55.560224Z",
          "shell.execute_reply": "2021-09-21T05:49:55.599604Z"
        },
        "trusted": true,
        "colab": {
          "base_uri": "https://localhost:8080/",
          "height": 204
        },
        "id": "QGUhw5YB-sYl",
        "outputId": "a59c5e5f-dacc-4400-959a-5085ca240348"
      },
      "source": [
        "test=pd.read_csv('../content/sample_data/test[1].csv')#/content/sample_data/test[1].csv\n",
        "test.head(5)"
      ],
      "execution_count": 69,
      "outputs": [
        {
          "output_type": "execute_result",
          "data": {
            "text/html": [
              "<div>\n",
              "<style scoped>\n",
              "    .dataframe tbody tr th:only-of-type {\n",
              "        vertical-align: middle;\n",
              "    }\n",
              "\n",
              "    .dataframe tbody tr th {\n",
              "        vertical-align: top;\n",
              "    }\n",
              "\n",
              "    .dataframe thead th {\n",
              "        text-align: right;\n",
              "    }\n",
              "</style>\n",
              "<table border=\"1\" class=\"dataframe\">\n",
              "  <thead>\n",
              "    <tr style=\"text-align: right;\">\n",
              "      <th></th>\n",
              "      <th>PassengerId</th>\n",
              "      <th>Pclass</th>\n",
              "      <th>Name</th>\n",
              "      <th>Sex</th>\n",
              "      <th>Age</th>\n",
              "      <th>SibSp</th>\n",
              "      <th>Parch</th>\n",
              "      <th>Ticket</th>\n",
              "      <th>Fare</th>\n",
              "      <th>Cabin</th>\n",
              "      <th>Embarked</th>\n",
              "    </tr>\n",
              "  </thead>\n",
              "  <tbody>\n",
              "    <tr>\n",
              "      <th>0</th>\n",
              "      <td>892</td>\n",
              "      <td>3</td>\n",
              "      <td>Kelly, Mr. James</td>\n",
              "      <td>male</td>\n",
              "      <td>34.5</td>\n",
              "      <td>0</td>\n",
              "      <td>0</td>\n",
              "      <td>330911</td>\n",
              "      <td>7.8292</td>\n",
              "      <td>NaN</td>\n",
              "      <td>Q</td>\n",
              "    </tr>\n",
              "    <tr>\n",
              "      <th>1</th>\n",
              "      <td>893</td>\n",
              "      <td>3</td>\n",
              "      <td>Wilkes, Mrs. James (Ellen Needs)</td>\n",
              "      <td>female</td>\n",
              "      <td>47.0</td>\n",
              "      <td>1</td>\n",
              "      <td>0</td>\n",
              "      <td>363272</td>\n",
              "      <td>7.0000</td>\n",
              "      <td>NaN</td>\n",
              "      <td>S</td>\n",
              "    </tr>\n",
              "    <tr>\n",
              "      <th>2</th>\n",
              "      <td>894</td>\n",
              "      <td>2</td>\n",
              "      <td>Myles, Mr. Thomas Francis</td>\n",
              "      <td>male</td>\n",
              "      <td>62.0</td>\n",
              "      <td>0</td>\n",
              "      <td>0</td>\n",
              "      <td>240276</td>\n",
              "      <td>9.6875</td>\n",
              "      <td>NaN</td>\n",
              "      <td>Q</td>\n",
              "    </tr>\n",
              "    <tr>\n",
              "      <th>3</th>\n",
              "      <td>895</td>\n",
              "      <td>3</td>\n",
              "      <td>Wirz, Mr. Albert</td>\n",
              "      <td>male</td>\n",
              "      <td>27.0</td>\n",
              "      <td>0</td>\n",
              "      <td>0</td>\n",
              "      <td>315154</td>\n",
              "      <td>8.6625</td>\n",
              "      <td>NaN</td>\n",
              "      <td>S</td>\n",
              "    </tr>\n",
              "    <tr>\n",
              "      <th>4</th>\n",
              "      <td>896</td>\n",
              "      <td>3</td>\n",
              "      <td>Hirvonen, Mrs. Alexander (Helga E Lindqvist)</td>\n",
              "      <td>female</td>\n",
              "      <td>22.0</td>\n",
              "      <td>1</td>\n",
              "      <td>1</td>\n",
              "      <td>3101298</td>\n",
              "      <td>12.2875</td>\n",
              "      <td>NaN</td>\n",
              "      <td>S</td>\n",
              "    </tr>\n",
              "  </tbody>\n",
              "</table>\n",
              "</div>"
            ],
            "text/plain": [
              "   PassengerId  Pclass  ... Cabin Embarked\n",
              "0          892       3  ...   NaN        Q\n",
              "1          893       3  ...   NaN        S\n",
              "2          894       2  ...   NaN        Q\n",
              "3          895       3  ...   NaN        S\n",
              "4          896       3  ...   NaN        S\n",
              "\n",
              "[5 rows x 11 columns]"
            ]
          },
          "metadata": {},
          "execution_count": 69
        }
      ]
    },
    {
      "cell_type": "markdown",
      "metadata": {
        "id": "XRRkb32WIQbj"
      },
      "source": [
        "#Data Manipulation and Analysis"
      ]
    },
    {
      "cell_type": "markdown",
      "metadata": {
        "_uuid": "b16c6b1564c0e0abd7f7b662f086575d5b8c9690",
        "id": "VZ-X7138-sYl"
      },
      "source": [
        "**encoding object data types to category and further into int data types**"
      ]
    },
    {
      "cell_type": "code",
      "metadata": {
        "_uuid": "82fd244b13836a4dbdf03b6835908e967254d595",
        "execution": {
          "iopub.status.busy": "2021-09-21T05:49:55.602326Z",
          "iopub.execute_input": "2021-09-21T05:49:55.602705Z",
          "iopub.status.idle": "2021-09-21T05:49:55.610794Z",
          "shell.execute_reply.started": "2021-09-21T05:49:55.602630Z",
          "shell.execute_reply": "2021-09-21T05:49:55.609569Z"
        },
        "trusted": true,
        "id": "UOqNGn2K-sYm"
      },
      "source": [
        "train.Sex=train.Sex.astype('category').cat.codes\n",
        "test.Sex=test.Sex.astype('category').cat.codes"
      ],
      "execution_count": 70,
      "outputs": []
    },
    {
      "cell_type": "code",
      "metadata": {
        "_uuid": "5c01d2623a6fd039c568541ef8df1695111747c1",
        "execution": {
          "iopub.status.busy": "2021-09-21T05:49:55.612564Z",
          "iopub.execute_input": "2021-09-21T05:49:55.612993Z",
          "iopub.status.idle": "2021-09-21T05:49:55.631117Z",
          "shell.execute_reply.started": "2021-09-21T05:49:55.612814Z",
          "shell.execute_reply": "2021-09-21T05:49:55.629923Z"
        },
        "trusted": true,
        "colab": {
          "base_uri": "https://localhost:8080/"
        },
        "id": "a_Aaa16--sYm",
        "outputId": "34a19365-8e37-4883-878d-6288063129be"
      },
      "source": [
        "train.isnull().sum()"
      ],
      "execution_count": 71,
      "outputs": [
        {
          "output_type": "execute_result",
          "data": {
            "text/plain": [
              "PassengerId      0\n",
              "Survived         0\n",
              "Pclass           0\n",
              "Name             0\n",
              "Sex              0\n",
              "Age            177\n",
              "SibSp            0\n",
              "Parch            0\n",
              "Ticket           0\n",
              "Fare             0\n",
              "Cabin          687\n",
              "Embarked         2\n",
              "dtype: int64"
            ]
          },
          "metadata": {},
          "execution_count": 71
        }
      ]
    },
    {
      "cell_type": "code",
      "metadata": {
        "_uuid": "31e1437acb8fcbcddc81139605d9a97f6102415a",
        "execution": {
          "iopub.status.busy": "2021-09-21T05:49:55.632460Z",
          "iopub.execute_input": "2021-09-21T05:49:55.632836Z",
          "iopub.status.idle": "2021-09-21T05:49:55.687320Z",
          "shell.execute_reply.started": "2021-09-21T05:49:55.632767Z",
          "shell.execute_reply": "2021-09-21T05:49:55.686364Z"
        },
        "trusted": true,
        "colab": {
          "base_uri": "https://localhost:8080/",
          "height": 297
        },
        "id": "uUe-5Gbc-sYn",
        "outputId": "d80af349-2e02-4eed-af8a-fdd403d82d18"
      },
      "source": [
        "train.describe()#describe gives the count,mean,standard deviation ,minimum of the given data."
      ],
      "execution_count": 72,
      "outputs": [
        {
          "output_type": "execute_result",
          "data": {
            "text/html": [
              "<div>\n",
              "<style scoped>\n",
              "    .dataframe tbody tr th:only-of-type {\n",
              "        vertical-align: middle;\n",
              "    }\n",
              "\n",
              "    .dataframe tbody tr th {\n",
              "        vertical-align: top;\n",
              "    }\n",
              "\n",
              "    .dataframe thead th {\n",
              "        text-align: right;\n",
              "    }\n",
              "</style>\n",
              "<table border=\"1\" class=\"dataframe\">\n",
              "  <thead>\n",
              "    <tr style=\"text-align: right;\">\n",
              "      <th></th>\n",
              "      <th>PassengerId</th>\n",
              "      <th>Survived</th>\n",
              "      <th>Pclass</th>\n",
              "      <th>Sex</th>\n",
              "      <th>Age</th>\n",
              "      <th>SibSp</th>\n",
              "      <th>Parch</th>\n",
              "      <th>Fare</th>\n",
              "    </tr>\n",
              "  </thead>\n",
              "  <tbody>\n",
              "    <tr>\n",
              "      <th>count</th>\n",
              "      <td>891.000000</td>\n",
              "      <td>891.000000</td>\n",
              "      <td>891.000000</td>\n",
              "      <td>891.000000</td>\n",
              "      <td>714.000000</td>\n",
              "      <td>891.000000</td>\n",
              "      <td>891.000000</td>\n",
              "      <td>891.000000</td>\n",
              "    </tr>\n",
              "    <tr>\n",
              "      <th>mean</th>\n",
              "      <td>446.000000</td>\n",
              "      <td>0.383838</td>\n",
              "      <td>2.308642</td>\n",
              "      <td>0.647587</td>\n",
              "      <td>29.699118</td>\n",
              "      <td>0.523008</td>\n",
              "      <td>0.381594</td>\n",
              "      <td>32.204208</td>\n",
              "    </tr>\n",
              "    <tr>\n",
              "      <th>std</th>\n",
              "      <td>257.353842</td>\n",
              "      <td>0.486592</td>\n",
              "      <td>0.836071</td>\n",
              "      <td>0.477990</td>\n",
              "      <td>14.526497</td>\n",
              "      <td>1.102743</td>\n",
              "      <td>0.806057</td>\n",
              "      <td>49.693429</td>\n",
              "    </tr>\n",
              "    <tr>\n",
              "      <th>min</th>\n",
              "      <td>1.000000</td>\n",
              "      <td>0.000000</td>\n",
              "      <td>1.000000</td>\n",
              "      <td>0.000000</td>\n",
              "      <td>0.420000</td>\n",
              "      <td>0.000000</td>\n",
              "      <td>0.000000</td>\n",
              "      <td>0.000000</td>\n",
              "    </tr>\n",
              "    <tr>\n",
              "      <th>25%</th>\n",
              "      <td>223.500000</td>\n",
              "      <td>0.000000</td>\n",
              "      <td>2.000000</td>\n",
              "      <td>0.000000</td>\n",
              "      <td>20.125000</td>\n",
              "      <td>0.000000</td>\n",
              "      <td>0.000000</td>\n",
              "      <td>7.910400</td>\n",
              "    </tr>\n",
              "    <tr>\n",
              "      <th>50%</th>\n",
              "      <td>446.000000</td>\n",
              "      <td>0.000000</td>\n",
              "      <td>3.000000</td>\n",
              "      <td>1.000000</td>\n",
              "      <td>28.000000</td>\n",
              "      <td>0.000000</td>\n",
              "      <td>0.000000</td>\n",
              "      <td>14.454200</td>\n",
              "    </tr>\n",
              "    <tr>\n",
              "      <th>75%</th>\n",
              "      <td>668.500000</td>\n",
              "      <td>1.000000</td>\n",
              "      <td>3.000000</td>\n",
              "      <td>1.000000</td>\n",
              "      <td>38.000000</td>\n",
              "      <td>1.000000</td>\n",
              "      <td>0.000000</td>\n",
              "      <td>31.000000</td>\n",
              "    </tr>\n",
              "    <tr>\n",
              "      <th>max</th>\n",
              "      <td>891.000000</td>\n",
              "      <td>1.000000</td>\n",
              "      <td>3.000000</td>\n",
              "      <td>1.000000</td>\n",
              "      <td>80.000000</td>\n",
              "      <td>8.000000</td>\n",
              "      <td>6.000000</td>\n",
              "      <td>512.329200</td>\n",
              "    </tr>\n",
              "  </tbody>\n",
              "</table>\n",
              "</div>"
            ],
            "text/plain": [
              "       PassengerId    Survived      Pclass  ...       SibSp       Parch        Fare\n",
              "count   891.000000  891.000000  891.000000  ...  891.000000  891.000000  891.000000\n",
              "mean    446.000000    0.383838    2.308642  ...    0.523008    0.381594   32.204208\n",
              "std     257.353842    0.486592    0.836071  ...    1.102743    0.806057   49.693429\n",
              "min       1.000000    0.000000    1.000000  ...    0.000000    0.000000    0.000000\n",
              "25%     223.500000    0.000000    2.000000  ...    0.000000    0.000000    7.910400\n",
              "50%     446.000000    0.000000    3.000000  ...    0.000000    0.000000   14.454200\n",
              "75%     668.500000    1.000000    3.000000  ...    1.000000    0.000000   31.000000\n",
              "max     891.000000    1.000000    3.000000  ...    8.000000    6.000000  512.329200\n",
              "\n",
              "[8 rows x 8 columns]"
            ]
          },
          "metadata": {},
          "execution_count": 72
        }
      ]
    },
    {
      "cell_type": "markdown",
      "metadata": {
        "_uuid": "d43ec9da450f7aa67521a81ebda2210409635dba",
        "id": "XY95iVz--sYo"
      },
      "source": [
        "**hot encoding category variables here**"
      ]
    },
    {
      "cell_type": "code",
      "metadata": {
        "_uuid": "69e566d13c70d747896034fd194e01be252c284d",
        "execution": {
          "iopub.status.busy": "2021-09-21T05:49:55.688959Z",
          "iopub.execute_input": "2021-09-21T05:49:55.689235Z",
          "iopub.status.idle": "2021-09-21T05:49:55.714315Z",
          "shell.execute_reply.started": "2021-09-21T05:49:55.689182Z",
          "shell.execute_reply": "2021-09-21T05:49:55.712970Z"
        },
        "trusted": true,
        "id": "j_JWIoL4-sYo"
      },
      "source": [
        "train_df=train.copy()\n",
        "test_df=test.copy()\n",
        "train_df = pd.get_dummies(train_df, columns=['Embarked', 'Pclass'], drop_first=True)\n",
        "test_df = pd.get_dummies(test_df, columns=['Embarked', 'Pclass'], drop_first=True)"
      ],
      "execution_count": 73,
      "outputs": []
    },
    {
      "cell_type": "code",
      "metadata": {
        "_uuid": "ed8e16ed50ab66bac3c2c4e1e5f22628a07375d0",
        "execution": {
          "iopub.status.busy": "2021-09-21T05:49:55.715735Z",
          "iopub.execute_input": "2021-09-21T05:49:55.715970Z",
          "iopub.status.idle": "2021-09-21T05:49:55.726445Z",
          "shell.execute_reply.started": "2021-09-21T05:49:55.715934Z",
          "shell.execute_reply": "2021-09-21T05:49:55.725202Z"
        },
        "trusted": true,
        "colab": {
          "base_uri": "https://localhost:8080/"
        },
        "id": "khp3WOv_-sYp",
        "outputId": "fd05ade0-4ef7-4609-e70d-bab4d1ded62b"
      },
      "source": [
        "test.isnull().sum()"
      ],
      "execution_count": 74,
      "outputs": [
        {
          "output_type": "execute_result",
          "data": {
            "text/plain": [
              "PassengerId      0\n",
              "Pclass           0\n",
              "Name             0\n",
              "Sex              0\n",
              "Age             86\n",
              "SibSp            0\n",
              "Parch            0\n",
              "Ticket           0\n",
              "Fare             1\n",
              "Cabin          327\n",
              "Embarked         0\n",
              "dtype: int64"
            ]
          },
          "metadata": {},
          "execution_count": 74
        }
      ]
    },
    {
      "cell_type": "code",
      "metadata": {
        "_uuid": "f6662b16a4c198186f85f18d703ab4dfcacf4340",
        "execution": {
          "iopub.status.busy": "2021-09-21T05:49:55.728125Z",
          "iopub.execute_input": "2021-09-21T05:49:55.728557Z",
          "iopub.status.idle": "2021-09-21T05:49:55.766724Z",
          "shell.execute_reply.started": "2021-09-21T05:49:55.728505Z",
          "shell.execute_reply": "2021-09-21T05:49:55.765537Z"
        },
        "trusted": true,
        "colab": {
          "base_uri": "https://localhost:8080/"
        },
        "id": "7xnn6khp-sYp",
        "outputId": "ad8d14ee-7a98-499a-a03e-43844bd65909"
      },
      "source": [
        "train_df.info()\n",
        "print(test_df.head(5))"
      ],
      "execution_count": 75,
      "outputs": [
        {
          "output_type": "stream",
          "name": "stdout",
          "text": [
            "<class 'pandas.core.frame.DataFrame'>\n",
            "RangeIndex: 891 entries, 0 to 890\n",
            "Data columns (total 14 columns):\n",
            " #   Column       Non-Null Count  Dtype  \n",
            "---  ------       --------------  -----  \n",
            " 0   PassengerId  891 non-null    int64  \n",
            " 1   Survived     891 non-null    int64  \n",
            " 2   Name         891 non-null    object \n",
            " 3   Sex          891 non-null    int8   \n",
            " 4   Age          714 non-null    float64\n",
            " 5   SibSp        891 non-null    int64  \n",
            " 6   Parch        891 non-null    int64  \n",
            " 7   Ticket       891 non-null    object \n",
            " 8   Fare         891 non-null    float64\n",
            " 9   Cabin        204 non-null    object \n",
            " 10  Embarked_Q   891 non-null    uint8  \n",
            " 11  Embarked_S   891 non-null    uint8  \n",
            " 12  Pclass_2     891 non-null    uint8  \n",
            " 13  Pclass_3     891 non-null    uint8  \n",
            "dtypes: float64(2), int64(4), int8(1), object(3), uint8(4)\n",
            "memory usage: 67.1+ KB\n",
            "   PassengerId  ... Pclass_3\n",
            "0          892  ...        1\n",
            "1          893  ...        1\n",
            "2          894  ...        0\n",
            "3          895  ...        1\n",
            "4          896  ...        1\n",
            "\n",
            "[5 rows x 13 columns]\n"
          ]
        }
      ]
    },
    {
      "cell_type": "markdown",
      "metadata": {
        "_uuid": "9de1e5093ede10931a6901b790b1685ef01b6672",
        "id": "21D8lbBs-sYp"
      },
      "source": [
        "**computing mean age for both the test and train dataset and imputing the mean age wherever NaN value exists**"
      ]
    },
    {
      "cell_type": "code",
      "metadata": {
        "_uuid": "8aee9ee26b4cebc1a94520240b672eda1447640e",
        "execution": {
          "iopub.status.busy": "2021-09-21T05:49:55.768037Z",
          "iopub.execute_input": "2021-09-21T05:49:55.768255Z",
          "iopub.status.idle": "2021-09-21T05:49:55.773347Z",
          "shell.execute_reply.started": "2021-09-21T05:49:55.768222Z",
          "shell.execute_reply": "2021-09-21T05:49:55.772134Z"
        },
        "trusted": true,
        "id": "sIa-CrUz-sYp"
      },
      "source": [
        "age_mean=train_df.Age.mean()\n",
        "#gives the mean value of the age column in the data set"
      ],
      "execution_count": 76,
      "outputs": []
    },
    {
      "cell_type": "code",
      "metadata": {
        "_uuid": "c479e38579e5233684001563d45b438d2fcb9d84",
        "execution": {
          "iopub.status.busy": "2021-09-21T05:49:55.775359Z",
          "iopub.execute_input": "2021-09-21T05:49:55.775799Z",
          "iopub.status.idle": "2021-09-21T05:49:55.786489Z",
          "shell.execute_reply.started": "2021-09-21T05:49:55.775724Z",
          "shell.execute_reply": "2021-09-21T05:49:55.785777Z"
        },
        "trusted": true,
        "id": "4NoJ3ugZ-sYq"
      },
      "source": [
        "\n",
        "train_df['Age'].fillna(train_df['Age'].median(),inplace=True)"
      ],
      "execution_count": 77,
      "outputs": []
    },
    {
      "cell_type": "code",
      "metadata": {
        "execution": {
          "iopub.status.busy": "2021-09-21T05:49:55.787356Z",
          "iopub.execute_input": "2021-09-21T05:49:55.787637Z",
          "iopub.status.idle": "2021-09-21T05:49:55.829969Z",
          "shell.execute_reply.started": "2021-09-21T05:49:55.787581Z",
          "shell.execute_reply": "2021-09-21T05:49:55.829249Z"
        },
        "trusted": true,
        "colab": {
          "base_uri": "https://localhost:8080/",
          "height": 906
        },
        "id": "xKkzFnBP-sYq",
        "outputId": "42f996c2-ec49-471b-e1f9-389816539413"
      },
      "source": [
        "train_df.head(10)"
      ],
      "execution_count": 78,
      "outputs": [
        {
          "output_type": "execute_result",
          "data": {
            "text/html": [
              "<div>\n",
              "<style scoped>\n",
              "    .dataframe tbody tr th:only-of-type {\n",
              "        vertical-align: middle;\n",
              "    }\n",
              "\n",
              "    .dataframe tbody tr th {\n",
              "        vertical-align: top;\n",
              "    }\n",
              "\n",
              "    .dataframe thead th {\n",
              "        text-align: right;\n",
              "    }\n",
              "</style>\n",
              "<table border=\"1\" class=\"dataframe\">\n",
              "  <thead>\n",
              "    <tr style=\"text-align: right;\">\n",
              "      <th></th>\n",
              "      <th>PassengerId</th>\n",
              "      <th>Survived</th>\n",
              "      <th>Name</th>\n",
              "      <th>Sex</th>\n",
              "      <th>Age</th>\n",
              "      <th>SibSp</th>\n",
              "      <th>Parch</th>\n",
              "      <th>Ticket</th>\n",
              "      <th>Fare</th>\n",
              "      <th>Cabin</th>\n",
              "      <th>Embarked_Q</th>\n",
              "      <th>Embarked_S</th>\n",
              "      <th>Pclass_2</th>\n",
              "      <th>Pclass_3</th>\n",
              "    </tr>\n",
              "  </thead>\n",
              "  <tbody>\n",
              "    <tr>\n",
              "      <th>0</th>\n",
              "      <td>1</td>\n",
              "      <td>0</td>\n",
              "      <td>Braund, Mr. Owen Harris</td>\n",
              "      <td>1</td>\n",
              "      <td>22.0</td>\n",
              "      <td>1</td>\n",
              "      <td>0</td>\n",
              "      <td>A/5 21171</td>\n",
              "      <td>7.2500</td>\n",
              "      <td>NaN</td>\n",
              "      <td>0</td>\n",
              "      <td>1</td>\n",
              "      <td>0</td>\n",
              "      <td>1</td>\n",
              "    </tr>\n",
              "    <tr>\n",
              "      <th>1</th>\n",
              "      <td>2</td>\n",
              "      <td>1</td>\n",
              "      <td>Cumings, Mrs. John Bradley (Florence Briggs Th...</td>\n",
              "      <td>0</td>\n",
              "      <td>38.0</td>\n",
              "      <td>1</td>\n",
              "      <td>0</td>\n",
              "      <td>PC 17599</td>\n",
              "      <td>71.2833</td>\n",
              "      <td>C85</td>\n",
              "      <td>0</td>\n",
              "      <td>0</td>\n",
              "      <td>0</td>\n",
              "      <td>0</td>\n",
              "    </tr>\n",
              "    <tr>\n",
              "      <th>2</th>\n",
              "      <td>3</td>\n",
              "      <td>1</td>\n",
              "      <td>Heikkinen, Miss. Laina</td>\n",
              "      <td>0</td>\n",
              "      <td>26.0</td>\n",
              "      <td>0</td>\n",
              "      <td>0</td>\n",
              "      <td>STON/O2. 3101282</td>\n",
              "      <td>7.9250</td>\n",
              "      <td>NaN</td>\n",
              "      <td>0</td>\n",
              "      <td>1</td>\n",
              "      <td>0</td>\n",
              "      <td>1</td>\n",
              "    </tr>\n",
              "    <tr>\n",
              "      <th>3</th>\n",
              "      <td>4</td>\n",
              "      <td>1</td>\n",
              "      <td>Futrelle, Mrs. Jacques Heath (Lily May Peel)</td>\n",
              "      <td>0</td>\n",
              "      <td>35.0</td>\n",
              "      <td>1</td>\n",
              "      <td>0</td>\n",
              "      <td>113803</td>\n",
              "      <td>53.1000</td>\n",
              "      <td>C123</td>\n",
              "      <td>0</td>\n",
              "      <td>1</td>\n",
              "      <td>0</td>\n",
              "      <td>0</td>\n",
              "    </tr>\n",
              "    <tr>\n",
              "      <th>4</th>\n",
              "      <td>5</td>\n",
              "      <td>0</td>\n",
              "      <td>Allen, Mr. William Henry</td>\n",
              "      <td>1</td>\n",
              "      <td>35.0</td>\n",
              "      <td>0</td>\n",
              "      <td>0</td>\n",
              "      <td>373450</td>\n",
              "      <td>8.0500</td>\n",
              "      <td>NaN</td>\n",
              "      <td>0</td>\n",
              "      <td>1</td>\n",
              "      <td>0</td>\n",
              "      <td>1</td>\n",
              "    </tr>\n",
              "    <tr>\n",
              "      <th>5</th>\n",
              "      <td>6</td>\n",
              "      <td>0</td>\n",
              "      <td>Moran, Mr. James</td>\n",
              "      <td>1</td>\n",
              "      <td>28.0</td>\n",
              "      <td>0</td>\n",
              "      <td>0</td>\n",
              "      <td>330877</td>\n",
              "      <td>8.4583</td>\n",
              "      <td>NaN</td>\n",
              "      <td>1</td>\n",
              "      <td>0</td>\n",
              "      <td>0</td>\n",
              "      <td>1</td>\n",
              "    </tr>\n",
              "    <tr>\n",
              "      <th>6</th>\n",
              "      <td>7</td>\n",
              "      <td>0</td>\n",
              "      <td>McCarthy, Mr. Timothy J</td>\n",
              "      <td>1</td>\n",
              "      <td>54.0</td>\n",
              "      <td>0</td>\n",
              "      <td>0</td>\n",
              "      <td>17463</td>\n",
              "      <td>51.8625</td>\n",
              "      <td>E46</td>\n",
              "      <td>0</td>\n",
              "      <td>1</td>\n",
              "      <td>0</td>\n",
              "      <td>0</td>\n",
              "    </tr>\n",
              "    <tr>\n",
              "      <th>7</th>\n",
              "      <td>8</td>\n",
              "      <td>0</td>\n",
              "      <td>Palsson, Master. Gosta Leonard</td>\n",
              "      <td>1</td>\n",
              "      <td>2.0</td>\n",
              "      <td>3</td>\n",
              "      <td>1</td>\n",
              "      <td>349909</td>\n",
              "      <td>21.0750</td>\n",
              "      <td>NaN</td>\n",
              "      <td>0</td>\n",
              "      <td>1</td>\n",
              "      <td>0</td>\n",
              "      <td>1</td>\n",
              "    </tr>\n",
              "    <tr>\n",
              "      <th>8</th>\n",
              "      <td>9</td>\n",
              "      <td>1</td>\n",
              "      <td>Johnson, Mrs. Oscar W (Elisabeth Vilhelmina Berg)</td>\n",
              "      <td>0</td>\n",
              "      <td>27.0</td>\n",
              "      <td>0</td>\n",
              "      <td>2</td>\n",
              "      <td>347742</td>\n",
              "      <td>11.1333</td>\n",
              "      <td>NaN</td>\n",
              "      <td>0</td>\n",
              "      <td>1</td>\n",
              "      <td>0</td>\n",
              "      <td>1</td>\n",
              "    </tr>\n",
              "    <tr>\n",
              "      <th>9</th>\n",
              "      <td>10</td>\n",
              "      <td>1</td>\n",
              "      <td>Nasser, Mrs. Nicholas (Adele Achem)</td>\n",
              "      <td>0</td>\n",
              "      <td>14.0</td>\n",
              "      <td>1</td>\n",
              "      <td>0</td>\n",
              "      <td>237736</td>\n",
              "      <td>30.0708</td>\n",
              "      <td>NaN</td>\n",
              "      <td>0</td>\n",
              "      <td>0</td>\n",
              "      <td>1</td>\n",
              "      <td>0</td>\n",
              "    </tr>\n",
              "  </tbody>\n",
              "</table>\n",
              "</div>"
            ],
            "text/plain": [
              "   PassengerId  Survived  ... Pclass_2  Pclass_3\n",
              "0            1         0  ...        0         1\n",
              "1            2         1  ...        0         0\n",
              "2            3         1  ...        0         1\n",
              "3            4         1  ...        0         0\n",
              "4            5         0  ...        0         1\n",
              "5            6         0  ...        0         1\n",
              "6            7         0  ...        0         0\n",
              "7            8         0  ...        0         1\n",
              "8            9         1  ...        0         1\n",
              "9           10         1  ...        1         0\n",
              "\n",
              "[10 rows x 14 columns]"
            ]
          },
          "metadata": {},
          "execution_count": 78
        }
      ]
    },
    {
      "cell_type": "code",
      "metadata": {
        "_uuid": "cb0b513d9de6af345ed24682ae5e55bfe8b1266f",
        "execution": {
          "iopub.status.busy": "2021-09-21T05:49:55.830889Z",
          "iopub.execute_input": "2021-09-21T05:49:55.831114Z",
          "iopub.status.idle": "2021-09-21T05:49:55.848206Z",
          "shell.execute_reply.started": "2021-09-21T05:49:55.831072Z",
          "shell.execute_reply": "2021-09-21T05:49:55.846997Z"
        },
        "trusted": true,
        "colab": {
          "base_uri": "https://localhost:8080/"
        },
        "id": "ZA1CG1UP-sYq",
        "outputId": "7d91bd32-d4e8-4bab-cf04-c433fb173b55"
      },
      "source": [
        "train_df.info()"
      ],
      "execution_count": 79,
      "outputs": [
        {
          "output_type": "stream",
          "name": "stdout",
          "text": [
            "<class 'pandas.core.frame.DataFrame'>\n",
            "RangeIndex: 891 entries, 0 to 890\n",
            "Data columns (total 14 columns):\n",
            " #   Column       Non-Null Count  Dtype  \n",
            "---  ------       --------------  -----  \n",
            " 0   PassengerId  891 non-null    int64  \n",
            " 1   Survived     891 non-null    int64  \n",
            " 2   Name         891 non-null    object \n",
            " 3   Sex          891 non-null    int8   \n",
            " 4   Age          891 non-null    float64\n",
            " 5   SibSp        891 non-null    int64  \n",
            " 6   Parch        891 non-null    int64  \n",
            " 7   Ticket       891 non-null    object \n",
            " 8   Fare         891 non-null    float64\n",
            " 9   Cabin        204 non-null    object \n",
            " 10  Embarked_Q   891 non-null    uint8  \n",
            " 11  Embarked_S   891 non-null    uint8  \n",
            " 12  Pclass_2     891 non-null    uint8  \n",
            " 13  Pclass_3     891 non-null    uint8  \n",
            "dtypes: float64(2), int64(4), int8(1), object(3), uint8(4)\n",
            "memory usage: 67.1+ KB\n"
          ]
        }
      ]
    },
    {
      "cell_type": "code",
      "metadata": {
        "_uuid": "88739d956fef39ce15783353778518859c297b22",
        "execution": {
          "iopub.status.busy": "2021-09-21T05:49:55.850427Z",
          "iopub.execute_input": "2021-09-21T05:49:55.850857Z",
          "iopub.status.idle": "2021-09-21T05:49:55.862975Z",
          "shell.execute_reply.started": "2021-09-21T05:49:55.850771Z",
          "shell.execute_reply": "2021-09-21T05:49:55.861721Z"
        },
        "trusted": true,
        "colab": {
          "base_uri": "https://localhost:8080/"
        },
        "id": "zRAIh1JT-sYq",
        "outputId": "c07e459c-50cc-4f2d-edfe-493548a4661c"
      },
      "source": [
        "age_mean_test=test_df['Age'].mean()\n",
        "print(age_mean_test)\n",
        "#test_df['Age'].fillna(age_mean_test,inplace=True)\n",
        "test_df['Age'].fillna(test_df['Age'].median(),inplace=True)"
      ],
      "execution_count": 80,
      "outputs": [
        {
          "output_type": "stream",
          "name": "stdout",
          "text": [
            "30.272590361445783\n"
          ]
        }
      ]
    },
    {
      "cell_type": "code",
      "metadata": {
        "_uuid": "f0bd5179c66fcd8782a9cfa122ca4704d36565cf",
        "execution": {
          "iopub.status.busy": "2021-09-21T05:49:55.864668Z",
          "iopub.execute_input": "2021-09-21T05:49:55.864963Z",
          "iopub.status.idle": "2021-09-21T05:49:55.877833Z",
          "shell.execute_reply.started": "2021-09-21T05:49:55.864897Z",
          "shell.execute_reply": "2021-09-21T05:49:55.876645Z"
        },
        "trusted": true,
        "id": "1dEz_4NG-sYq"
      },
      "source": [
        "test_df['Fare'].fillna(test_df['Fare'].mean(),inplace=True)"
      ],
      "execution_count": 81,
      "outputs": []
    },
    {
      "cell_type": "code",
      "metadata": {
        "_uuid": "1913cbbc219e694e4bc9e4327d50f30d9465c52a",
        "execution": {
          "iopub.status.busy": "2021-09-21T05:49:55.879730Z",
          "iopub.execute_input": "2021-09-21T05:49:55.879983Z",
          "iopub.status.idle": "2021-09-21T05:49:55.891270Z",
          "shell.execute_reply.started": "2021-09-21T05:49:55.879937Z",
          "shell.execute_reply": "2021-09-21T05:49:55.890525Z"
        },
        "trusted": true,
        "id": "MjVgUynu-sYq"
      },
      "source": [
        "#test_df.Cabin.unique()"
      ],
      "execution_count": 82,
      "outputs": []
    },
    {
      "cell_type": "code",
      "metadata": {
        "_uuid": "cd8e9252b15d73ed1efac0fff9c37a71fc5a2c68",
        "execution": {
          "iopub.status.busy": "2021-09-21T05:49:55.892345Z",
          "iopub.execute_input": "2021-09-21T05:49:55.892665Z",
          "iopub.status.idle": "2021-09-21T05:49:55.904920Z",
          "shell.execute_reply.started": "2021-09-21T05:49:55.892613Z",
          "shell.execute_reply": "2021-09-21T05:49:55.904203Z"
        },
        "trusted": true,
        "id": "bsRAM0-5-sYr"
      },
      "source": [
        "test_df.drop(columns=['Cabin','Name','Ticket'],axis=1,inplace=True)"
      ],
      "execution_count": 83,
      "outputs": []
    },
    {
      "cell_type": "code",
      "metadata": {
        "_uuid": "814258b3743a8a8493252ec7540bba90f89c15d3",
        "execution": {
          "iopub.status.busy": "2021-09-21T05:49:55.906102Z",
          "iopub.execute_input": "2021-09-21T05:49:55.906648Z",
          "iopub.status.idle": "2021-09-21T05:49:55.919870Z",
          "shell.execute_reply.started": "2021-09-21T05:49:55.906591Z",
          "shell.execute_reply": "2021-09-21T05:49:55.918707Z"
        },
        "trusted": true,
        "id": "jGQdhjN4-sYr"
      },
      "source": [
        "train_df.drop(columns=['Cabin','Name','Ticket'],axis=1,inplace=True)"
      ],
      "execution_count": 84,
      "outputs": []
    },
    {
      "cell_type": "code",
      "metadata": {
        "execution": {
          "iopub.status.busy": "2021-09-21T05:49:55.921272Z",
          "iopub.execute_input": "2021-09-21T05:49:55.921575Z",
          "iopub.status.idle": "2021-09-21T05:49:55.962540Z",
          "shell.execute_reply.started": "2021-09-21T05:49:55.921503Z",
          "shell.execute_reply": "2021-09-21T05:49:55.961921Z"
        },
        "trusted": true,
        "colab": {
          "base_uri": "https://localhost:8080/"
        },
        "id": "LJ7kVn9m-sYr",
        "outputId": "b2a39954-603e-43c8-d758-eeffb4785b75"
      },
      "source": [
        "train_df.describe"
      ],
      "execution_count": 85,
      "outputs": [
        {
          "output_type": "execute_result",
          "data": {
            "text/plain": [
              "<bound method NDFrame.describe of      PassengerId  Survived  Sex  ...  Embarked_S  Pclass_2  Pclass_3\n",
              "0              1         0    1  ...           1         0         1\n",
              "1              2         1    0  ...           0         0         0\n",
              "2              3         1    0  ...           1         0         1\n",
              "3              4         1    0  ...           1         0         0\n",
              "4              5         0    1  ...           1         0         1\n",
              "..           ...       ...  ...  ...         ...       ...       ...\n",
              "886          887         0    1  ...           1         1         0\n",
              "887          888         1    0  ...           1         0         0\n",
              "888          889         0    0  ...           1         0         1\n",
              "889          890         1    1  ...           0         0         0\n",
              "890          891         0    1  ...           0         0         1\n",
              "\n",
              "[891 rows x 11 columns]>"
            ]
          },
          "metadata": {},
          "execution_count": 85
        }
      ]
    },
    {
      "cell_type": "markdown",
      "metadata": {
        "id": "bE8o1wd1IYwH"
      },
      "source": [
        "#Data Visualization"
      ]
    },
    {
      "cell_type": "code",
      "metadata": {
        "_uuid": "93e196459b7f3c3b136067090eb2e9b0b027eaad",
        "execution": {
          "iopub.status.busy": "2021-09-21T05:49:55.963610Z",
          "iopub.execute_input": "2021-09-21T05:49:55.964022Z",
          "iopub.status.idle": "2021-09-21T05:49:56.002954Z",
          "shell.execute_reply.started": "2021-09-21T05:49:55.963961Z",
          "shell.execute_reply": "2021-09-21T05:49:56.002280Z"
        },
        "trusted": true,
        "colab": {
          "base_uri": "https://localhost:8080/",
          "height": 410
        },
        "id": "IwH_D6KV-sYr",
        "outputId": "e377bd87-d366-477f-fbb3-57a36c9df6ba"
      },
      "source": [
        "corr=train_df.corr(method='pearson')#Gives the correlation co-efficient using pearson method\n",
        "corr"
      ],
      "execution_count": 86,
      "outputs": [
        {
          "output_type": "execute_result",
          "data": {
            "text/html": [
              "<div>\n",
              "<style scoped>\n",
              "    .dataframe tbody tr th:only-of-type {\n",
              "        vertical-align: middle;\n",
              "    }\n",
              "\n",
              "    .dataframe tbody tr th {\n",
              "        vertical-align: top;\n",
              "    }\n",
              "\n",
              "    .dataframe thead th {\n",
              "        text-align: right;\n",
              "    }\n",
              "</style>\n",
              "<table border=\"1\" class=\"dataframe\">\n",
              "  <thead>\n",
              "    <tr style=\"text-align: right;\">\n",
              "      <th></th>\n",
              "      <th>PassengerId</th>\n",
              "      <th>Survived</th>\n",
              "      <th>Sex</th>\n",
              "      <th>Age</th>\n",
              "      <th>SibSp</th>\n",
              "      <th>Parch</th>\n",
              "      <th>Fare</th>\n",
              "      <th>Embarked_Q</th>\n",
              "      <th>Embarked_S</th>\n",
              "      <th>Pclass_2</th>\n",
              "      <th>Pclass_3</th>\n",
              "    </tr>\n",
              "  </thead>\n",
              "  <tbody>\n",
              "    <tr>\n",
              "      <th>PassengerId</th>\n",
              "      <td>1.000000</td>\n",
              "      <td>-0.005007</td>\n",
              "      <td>0.042939</td>\n",
              "      <td>0.034212</td>\n",
              "      <td>-0.057527</td>\n",
              "      <td>-0.001652</td>\n",
              "      <td>0.012658</td>\n",
              "      <td>-0.033606</td>\n",
              "      <td>0.022148</td>\n",
              "      <td>-0.000086</td>\n",
              "      <td>-0.029486</td>\n",
              "    </tr>\n",
              "    <tr>\n",
              "      <th>Survived</th>\n",
              "      <td>-0.005007</td>\n",
              "      <td>1.000000</td>\n",
              "      <td>-0.543351</td>\n",
              "      <td>-0.064910</td>\n",
              "      <td>-0.035322</td>\n",
              "      <td>0.081629</td>\n",
              "      <td>0.257307</td>\n",
              "      <td>0.003650</td>\n",
              "      <td>-0.155660</td>\n",
              "      <td>0.093349</td>\n",
              "      <td>-0.322308</td>\n",
              "    </tr>\n",
              "    <tr>\n",
              "      <th>Sex</th>\n",
              "      <td>0.042939</td>\n",
              "      <td>-0.543351</td>\n",
              "      <td>1.000000</td>\n",
              "      <td>0.081163</td>\n",
              "      <td>-0.114631</td>\n",
              "      <td>-0.245489</td>\n",
              "      <td>-0.182333</td>\n",
              "      <td>-0.074115</td>\n",
              "      <td>0.125722</td>\n",
              "      <td>-0.064746</td>\n",
              "      <td>0.137143</td>\n",
              "    </tr>\n",
              "    <tr>\n",
              "      <th>Age</th>\n",
              "      <td>0.034212</td>\n",
              "      <td>-0.064910</td>\n",
              "      <td>0.081163</td>\n",
              "      <td>1.000000</td>\n",
              "      <td>-0.233296</td>\n",
              "      <td>-0.172482</td>\n",
              "      <td>0.096688</td>\n",
              "      <td>-0.031415</td>\n",
              "      <td>-0.014665</td>\n",
              "      <td>0.015831</td>\n",
              "      <td>-0.291955</td>\n",
              "    </tr>\n",
              "    <tr>\n",
              "      <th>SibSp</th>\n",
              "      <td>-0.057527</td>\n",
              "      <td>-0.035322</td>\n",
              "      <td>-0.114631</td>\n",
              "      <td>-0.233296</td>\n",
              "      <td>1.000000</td>\n",
              "      <td>0.414838</td>\n",
              "      <td>0.159651</td>\n",
              "      <td>-0.026354</td>\n",
              "      <td>0.070941</td>\n",
              "      <td>-0.055932</td>\n",
              "      <td>0.092548</td>\n",
              "    </tr>\n",
              "    <tr>\n",
              "      <th>Parch</th>\n",
              "      <td>-0.001652</td>\n",
              "      <td>0.081629</td>\n",
              "      <td>-0.245489</td>\n",
              "      <td>-0.172482</td>\n",
              "      <td>0.414838</td>\n",
              "      <td>1.000000</td>\n",
              "      <td>0.216225</td>\n",
              "      <td>-0.081228</td>\n",
              "      <td>0.063036</td>\n",
              "      <td>-0.000734</td>\n",
              "      <td>0.015790</td>\n",
              "    </tr>\n",
              "    <tr>\n",
              "      <th>Fare</th>\n",
              "      <td>0.012658</td>\n",
              "      <td>0.257307</td>\n",
              "      <td>-0.182333</td>\n",
              "      <td>0.096688</td>\n",
              "      <td>0.159651</td>\n",
              "      <td>0.216225</td>\n",
              "      <td>1.000000</td>\n",
              "      <td>-0.117216</td>\n",
              "      <td>-0.166603</td>\n",
              "      <td>-0.118557</td>\n",
              "      <td>-0.413333</td>\n",
              "    </tr>\n",
              "    <tr>\n",
              "      <th>Embarked_Q</th>\n",
              "      <td>-0.033606</td>\n",
              "      <td>0.003650</td>\n",
              "      <td>-0.074115</td>\n",
              "      <td>-0.031415</td>\n",
              "      <td>-0.026354</td>\n",
              "      <td>-0.081228</td>\n",
              "      <td>-0.117216</td>\n",
              "      <td>1.000000</td>\n",
              "      <td>-0.496624</td>\n",
              "      <td>-0.127301</td>\n",
              "      <td>0.237449</td>\n",
              "    </tr>\n",
              "    <tr>\n",
              "      <th>Embarked_S</th>\n",
              "      <td>0.022148</td>\n",
              "      <td>-0.155660</td>\n",
              "      <td>0.125722</td>\n",
              "      <td>-0.014665</td>\n",
              "      <td>0.070941</td>\n",
              "      <td>0.063036</td>\n",
              "      <td>-0.166603</td>\n",
              "      <td>-0.496624</td>\n",
              "      <td>1.000000</td>\n",
              "      <td>0.192061</td>\n",
              "      <td>-0.009511</td>\n",
              "    </tr>\n",
              "    <tr>\n",
              "      <th>Pclass_2</th>\n",
              "      <td>-0.000086</td>\n",
              "      <td>0.093349</td>\n",
              "      <td>-0.064746</td>\n",
              "      <td>0.015831</td>\n",
              "      <td>-0.055932</td>\n",
              "      <td>-0.000734</td>\n",
              "      <td>-0.118557</td>\n",
              "      <td>-0.127301</td>\n",
              "      <td>0.192061</td>\n",
              "      <td>1.000000</td>\n",
              "      <td>-0.565210</td>\n",
              "    </tr>\n",
              "    <tr>\n",
              "      <th>Pclass_3</th>\n",
              "      <td>-0.029486</td>\n",
              "      <td>-0.322308</td>\n",
              "      <td>0.137143</td>\n",
              "      <td>-0.291955</td>\n",
              "      <td>0.092548</td>\n",
              "      <td>0.015790</td>\n",
              "      <td>-0.413333</td>\n",
              "      <td>0.237449</td>\n",
              "      <td>-0.009511</td>\n",
              "      <td>-0.565210</td>\n",
              "      <td>1.000000</td>\n",
              "    </tr>\n",
              "  </tbody>\n",
              "</table>\n",
              "</div>"
            ],
            "text/plain": [
              "             PassengerId  Survived       Sex  ...  Embarked_S  Pclass_2  Pclass_3\n",
              "PassengerId     1.000000 -0.005007  0.042939  ...    0.022148 -0.000086 -0.029486\n",
              "Survived       -0.005007  1.000000 -0.543351  ...   -0.155660  0.093349 -0.322308\n",
              "Sex             0.042939 -0.543351  1.000000  ...    0.125722 -0.064746  0.137143\n",
              "Age             0.034212 -0.064910  0.081163  ...   -0.014665  0.015831 -0.291955\n",
              "SibSp          -0.057527 -0.035322 -0.114631  ...    0.070941 -0.055932  0.092548\n",
              "Parch          -0.001652  0.081629 -0.245489  ...    0.063036 -0.000734  0.015790\n",
              "Fare            0.012658  0.257307 -0.182333  ...   -0.166603 -0.118557 -0.413333\n",
              "Embarked_Q     -0.033606  0.003650 -0.074115  ...   -0.496624 -0.127301  0.237449\n",
              "Embarked_S      0.022148 -0.155660  0.125722  ...    1.000000  0.192061 -0.009511\n",
              "Pclass_2       -0.000086  0.093349 -0.064746  ...    0.192061  1.000000 -0.565210\n",
              "Pclass_3       -0.029486 -0.322308  0.137143  ...   -0.009511 -0.565210  1.000000\n",
              "\n",
              "[11 rows x 11 columns]"
            ]
          },
          "metadata": {},
          "execution_count": 86
        }
      ]
    },
    {
      "cell_type": "code",
      "metadata": {
        "execution": {
          "iopub.status.busy": "2021-09-21T05:49:56.003997Z",
          "iopub.execute_input": "2021-09-21T05:49:56.004402Z",
          "iopub.status.idle": "2021-09-21T05:49:56.680144Z",
          "shell.execute_reply.started": "2021-09-21T05:49:56.004346Z",
          "shell.execute_reply": "2021-09-21T05:49:56.679029Z"
        },
        "trusted": true,
        "colab": {
          "base_uri": "https://localhost:8080/",
          "height": 332
        },
        "id": "qqM3ww5K-sYr",
        "outputId": "41017741-3f0b-4831-f75a-434801dd7007"
      },
      "source": [
        "import matplotlib.pyplot as plt# Visualizing the columns using the double barplots of matplotlib method between Pclass and survived\n",
        "fig, axes = plt.subplots(nrows=1, ncols=3, figsize=(15,5))\n",
        "cat_columns = ['Sex','Pclass','Embarked']\n",
        "for i in range(len(cat_columns)):\n",
        "    curr_feature = cat_columns[i]\n",
        "    train.groupby([curr_feature, 'Survived'])['PassengerId'].count().unstack().plot(kind = 'bar', stacked = False, ax = axes[i])\n",
        "    axes[i].legend(['Dead','Survived'])"
      ],
      "execution_count": 87,
      "outputs": [
        {
          "output_type": "display_data",
          "data": {
            "image/png": "[encoded data removed]",
            "text/plain": [
              "<Figure size 1080x360 with 3 Axes>"
            ]
          },
          "metadata": {}
        }
      ]
    },
    {
      "cell_type": "code",
      "metadata": {
        "execution": {
          "iopub.status.busy": "2021-09-21T05:49:56.681902Z",
          "iopub.execute_input": "2021-09-21T05:49:56.682643Z",
          "iopub.status.idle": "2021-09-21T05:49:57.939124Z",
          "shell.execute_reply.started": "2021-09-21T05:49:56.682570Z",
          "shell.execute_reply": "2021-09-21T05:49:57.937963Z"
        },
        "trusted": true,
        "colab": {
          "base_uri": "https://localhost:8080/",
          "height": 381
        },
        "id": "TaVj3a1b-sYr",
        "outputId": "4880a41d-7b63-445e-c28e-353818d6dbfc"
      },
      "source": [
        "import seaborn as sns#To get the histogram visualization of data frame between Pclass_3,Survived and Age.\n",
        "grid = sns.FacetGrid(train_df, col='Survived', row='Pclass_3', size=2.2, aspect=1.6)\n",
        "grid.map(plt.hist, 'Age', alpha=.5, bins=20)\n",
        "grid.add_legend();"
      ],
      "execution_count": 88,
      "outputs": [
        {
          "output_type": "stream",
          "name": "stderr",
          "text": [
            "/usr/local/lib/python3.7/dist-packages/seaborn/axisgrid.py:337: UserWarning: The `size` parameter has been renamed to `height`; please update your code.\n",
            "  warnings.warn(msg, UserWarning)\n"
          ]
        },
        {
          "output_type": "display_data",
          "data": {
            "image/png": "[encoded data removed]",
            "text/plain": [
              "<Figure size 513.92x316.8 with 4 Axes>"
            ]
          },
          "metadata": {}
        }
      ]
    },
    {
      "cell_type": "code",
      "metadata": {
        "_uuid": "809febb076c3a75acf5df36e0638086331b7a816",
        "execution": {
          "iopub.status.busy": "2021-09-21T05:49:57.940893Z",
          "iopub.execute_input": "2021-09-21T05:49:57.941587Z",
          "iopub.status.idle": "2021-09-21T05:49:58.277203Z",
          "shell.execute_reply.started": "2021-09-21T05:49:57.941522Z",
          "shell.execute_reply": "2021-09-21T05:49:58.276405Z"
        },
        "trusted": true,
        "colab": {
          "base_uri": "https://localhost:8080/",
          "height": 333
        },
        "id": "_1JRm-gA-sYs",
        "outputId": "93e2e2ba-0d28-4e69-901e-0c7dbfaf079d"
      },
      "source": [
        "import seaborn as sns\n",
        "sns.set(context='paper', style='whitegrid', palette='muted', font='sans-serif', font_scale=1, color_codes=True, rc=None)\n",
        "sns.heatmap(corr,linewidths=.5)"
      ],
      "execution_count": 89,
      "outputs": [
        {
          "output_type": "execute_result",
          "data": {
            "text/plain": [
              "<matplotlib.axes._subplots.AxesSubplot at 0x7f27b4cd6190>"
            ]
          },
          "metadata": {},
          "execution_count": 89
        },
        {
          "output_type": "display_data",
          "data": {
            "image/png": "[encoded data removed]",
            "text/plain": [
              "<Figure size 432x288 with 2 Axes>"
            ]
          },
          "metadata": {}
        }
      ]
    },
    {
      "cell_type": "code",
      "metadata": {
        "_uuid": "159f59c9e78ed2a7dc381327307b8d415157fd12",
        "execution": {
          "iopub.status.busy": "2021-09-21T05:49:58.278964Z",
          "iopub.execute_input": "2021-09-21T05:49:58.279703Z",
          "iopub.status.idle": "2021-09-21T05:49:58.618030Z",
          "shell.execute_reply.started": "2021-09-21T05:49:58.279640Z",
          "shell.execute_reply": "2021-09-21T05:49:58.616943Z"
        },
        "trusted": true,
        "colab": {
          "base_uri": "https://localhost:8080/",
          "height": 297
        },
        "id": "6e_qgGcF-sYs",
        "outputId": "d80a1b76-322c-4b67-a431-1f7fccd1f3f5"
      },
      "source": [
        "sns.barplot(x=corr.Survived,y=corr.columns)"
      ],
      "execution_count": 90,
      "outputs": [
        {
          "output_type": "execute_result",
          "data": {
            "text/plain": [
              "<matplotlib.axes._subplots.AxesSubplot at 0x7f27b4c58c90>"
            ]
          },
          "metadata": {},
          "execution_count": 90
        },
        {
          "output_type": "display_data",
          "data": {
            "image/png": "[encoded data removed]",
            "text/plain": [
              "<Figure size 432x288 with 1 Axes>"
            ]
          },
          "metadata": {}
        }
      ]
    },
    {
      "cell_type": "code",
      "metadata": {
        "_uuid": "7651a3e15fde8c16b5180d3d147adf0bbf1ae81d",
        "execution": {
          "iopub.status.busy": "2021-09-21T05:49:58.619699Z",
          "iopub.execute_input": "2021-09-21T05:49:58.620265Z",
          "iopub.status.idle": "2021-09-21T05:49:58.630152Z",
          "shell.execute_reply.started": "2021-09-21T05:49:58.620035Z",
          "shell.execute_reply": "2021-09-21T05:49:58.629028Z"
        },
        "trusted": true,
        "id": "kT8byWkq-sYs"
      },
      "source": [
        "#import sklearn libraries\n",
        "from sklearn.linear_model import LogisticRegression\n",
        "from sklearn.linear_model import SGDClassifier\n",
        "from sklearn.naive_bayes import GaussianNB\n",
        "from sklearn.neighbors import KNeighborsClassifier\n",
        "from sklearn.tree import DecisionTreeClassifier\n",
        "from sklearn.model_selection import cross_val_score\n",
        "from sklearn.svm import SVC\n",
        "from sklearn.metrics import confusion_matrix\n",
        "from sklearn.ensemble import AdaBoostClassifier\n",
        "logReg=LogisticRegression(solver='liblinear')\n",
        "sgdcls=SGDClassifier()\n",
        "nbcls=GaussianNB()\n",
        "knn=KNeighborsClassifier()\n",
        "desclr=DecisionTreeClassifier()\n",
        "svc=SVC()\n",
        "ada=AdaBoostClassifier()"
      ],
      "execution_count": 91,
      "outputs": []
    },
    {
      "cell_type": "markdown",
      "metadata": {
        "id": "9EGodjGUIwwv"
      },
      "source": [
        "#Data Preparation"
      ]
    },
    {
      "cell_type": "code",
      "metadata": {
        "_uuid": "336217f4fb6be88353526be0921edd0a946254fd",
        "execution": {
          "iopub.status.busy": "2021-09-21T05:49:58.631867Z",
          "iopub.execute_input": "2021-09-21T05:49:58.632486Z",
          "iopub.status.idle": "2021-09-21T05:49:58.654620Z",
          "shell.execute_reply.started": "2021-09-21T05:49:58.632259Z",
          "shell.execute_reply": "2021-09-21T05:49:58.653910Z"
        },
        "trusted": true,
        "id": "abli_q9u-sYs"
      },
      "source": [
        "X=train_df.drop('Survived',axis=1)#Splitting the data set to train and test.\n",
        "y=train_df['Survived']\n",
        "from sklearn.model_selection import train_test_split\n",
        "X_train, X_df_test, y_train, y_df_test = train_test_split(X, y, test_size=0.20, random_state=42)"
      ],
      "execution_count": 92,
      "outputs": []
    },
    {
      "cell_type": "markdown",
      "metadata": {
        "id": "-Fwr2x3fI92T"
      },
      "source": [
        "#Training and testing multiple ML models"
      ]
    },
    {
      "cell_type": "code",
      "metadata": {
        "_uuid": "d4bf3b1e28f554eb8c7ef9c0a7f7c65b466b9267",
        "execution": {
          "iopub.status.busy": "2021-09-21T05:49:58.655962Z",
          "iopub.execute_input": "2021-09-21T05:49:58.656372Z",
          "iopub.status.idle": "2021-09-21T05:49:58.709972Z",
          "shell.execute_reply.started": "2021-09-21T05:49:58.656314Z",
          "shell.execute_reply": "2021-09-21T05:49:58.709028Z"
        },
        "trusted": true,
        "colab": {
          "base_uri": "https://localhost:8080/"
        },
        "id": "Jh4_bN3o-sYt",
        "outputId": "d057291e-8fa3-4eef-ba26-49c7ee401151"
      },
      "source": [
        "logReg.fit(X_train,y_train)#Predicting using logistic regression\n",
        "prediction=logReg.predict(X_df_test)\n",
        "#pred_train=logReg.predict(train_y)\n",
        "score=cross_val_score(logReg,X_train,y_train,cv=5)\n",
        "print(\"Score:\",score)\n",
        "#print(\"Confusion_matrix:\",confusion_matrix(train_y,pred_train))\n",
        "acc_log = round(logReg.score(X_train,y_train) * 100, 2)\n",
        "acc_log"
      ],
      "execution_count": 93,
      "outputs": [
        {
          "output_type": "stream",
          "name": "stdout",
          "text": [
            "Score: [0.8041958  0.82517483 0.79577465 0.74647887 0.83802817]\n"
          ]
        },
        {
          "output_type": "execute_result",
          "data": {
            "text/plain": [
              "81.04"
            ]
          },
          "metadata": {},
          "execution_count": 93
        }
      ]
    },
    {
      "cell_type": "code",
      "metadata": {
        "_uuid": "fbf2cfe695dd97a1e20d7ee2a957606e66b79d56",
        "execution": {
          "iopub.status.busy": "2021-09-21T05:49:58.711279Z",
          "iopub.execute_input": "2021-09-21T05:49:58.711541Z",
          "iopub.status.idle": "2021-09-21T05:49:58.752256Z",
          "shell.execute_reply.started": "2021-09-21T05:49:58.711491Z",
          "shell.execute_reply": "2021-09-21T05:49:58.751402Z"
        },
        "trusted": true,
        "colab": {
          "base_uri": "https://localhost:8080/"
        },
        "id": "lC_CHnFp-sYt",
        "outputId": "f451e6b0-5c3e-4efe-d9b3-5bb3e260e43e"
      },
      "source": [
        "#SGDClassifier\n",
        "sgdcls.fit(X_train,y_train)\n",
        "prediction_sgdcls=sgdcls.predict(X_df_test)\n",
        "#pred_train=logReg.predict(train_y)\n",
        "score=cross_val_score(sgdcls,X_train,y_train,cv=5)\n",
        "print(\"Score:\",score)\n",
        "#print(\"Confusion_matrix:\",confusion_matrix(train_y,pred_train))\n",
        "acc_log_sgdcls = round(sgdcls.score(X_train,y_train) * 100, 2)\n",
        "acc_log_sgdcls"
      ],
      "execution_count": 94,
      "outputs": [
        {
          "output_type": "stream",
          "name": "stdout",
          "text": [
            "Score: [0.60839161 0.69230769 0.64788732 0.38732394 0.38732394]\n"
          ]
        },
        {
          "output_type": "execute_result",
          "data": {
            "text/plain": [
              "37.78"
            ]
          },
          "metadata": {},
          "execution_count": 94
        }
      ]
    },
    {
      "cell_type": "code",
      "metadata": {
        "_uuid": "c9c25d6a37a3cec2e3a626bdacbac251fd225928",
        "execution": {
          "iopub.status.busy": "2021-09-21T05:49:58.753451Z",
          "iopub.execute_input": "2021-09-21T05:49:58.753932Z",
          "iopub.status.idle": "2021-09-21T05:49:58.788647Z",
          "shell.execute_reply.started": "2021-09-21T05:49:58.753877Z",
          "shell.execute_reply": "2021-09-21T05:49:58.787930Z"
        },
        "trusted": true,
        "colab": {
          "base_uri": "https://localhost:8080/"
        },
        "id": "3IruifB2-sYt",
        "outputId": "14c2895d-17f5-4002-abf7-0fab14287b17"
      },
      "source": [
        "nbcls.fit(X_train,y_train)#Naive Bayes Classification method used for prediction.\n",
        "prediction_nbcls=nbcls.predict(X_df_test)\n",
        "#pred_train=logReg.predict(train_y)\n",
        "score=cross_val_score(nbcls,X_train,y_train,cv=5)\n",
        "print(\"Score:\",score)\n",
        "#print(\"Confusion_matrix:\",confusion_matrix(train_y,pred_train))\n",
        "acc_log_nbcls = round(nbcls.score(X_train,y_train) * 100, 2)\n",
        "acc_log_nbcls"
      ],
      "execution_count": 95,
      "outputs": [
        {
          "output_type": "stream",
          "name": "stdout",
          "text": [
            "Score: [0.78321678 0.81818182 0.81690141 0.73239437 0.76760563]\n"
          ]
        },
        {
          "output_type": "execute_result",
          "data": {
            "text/plain": [
              "80.34"
            ]
          },
          "metadata": {},
          "execution_count": 95
        }
      ]
    },
    {
      "cell_type": "code",
      "metadata": {
        "_uuid": "69cfa80d5510f63224fe425296bc511b1b31b674",
        "execution": {
          "iopub.status.busy": "2021-09-21T05:49:58.789863Z",
          "iopub.execute_input": "2021-09-21T05:49:58.790113Z",
          "iopub.status.idle": "2021-09-21T05:49:58.840140Z",
          "shell.execute_reply.started": "2021-09-21T05:49:58.790065Z",
          "shell.execute_reply": "2021-09-21T05:49:58.838757Z"
        },
        "trusted": true,
        "colab": {
          "base_uri": "https://localhost:8080/"
        },
        "id": "GNZN3Vmv-sYt",
        "outputId": "2d7e1b9b-e639-4d95-fc0b-d2119719d2b1"
      },
      "source": [
        "knn.fit(X_train,y_train)#Knn method is implemented here to predict.\n",
        "prediction_knn=knn.predict(X_df_test)\n",
        "#pred_train=logReg.predict(train_y)\n",
        "score=cross_val_score(knn,X_train,y_train,cv=5)\n",
        "print(\"Score:\",score)\n",
        "#print(\"Confusion_matrix:\",confusion_matrix(train_y,pred_train))\n",
        "acc_log_knn = round(knn.score(X_train,y_train) * 100, 2)\n",
        "acc_log_knn"
      ],
      "execution_count": 96,
      "outputs": [
        {
          "output_type": "stream",
          "name": "stdout",
          "text": [
            "Score: [0.65734266 0.61538462 0.58450704 0.58450704 0.64788732]\n"
          ]
        },
        {
          "output_type": "execute_result",
          "data": {
            "text/plain": [
              "75.14"
            ]
          },
          "metadata": {},
          "execution_count": 96
        }
      ]
    },
    {
      "cell_type": "code",
      "metadata": {
        "_uuid": "62fdfa1f3759397b9d452793eee49158f14aa1f0",
        "execution": {
          "iopub.status.busy": "2021-09-21T05:49:58.841715Z",
          "iopub.execute_input": "2021-09-21T05:49:58.841961Z",
          "iopub.status.idle": "2021-09-21T05:49:58.890324Z",
          "shell.execute_reply.started": "2021-09-21T05:49:58.841923Z",
          "shell.execute_reply": "2021-09-21T05:49:58.889240Z"
        },
        "trusted": true,
        "colab": {
          "base_uri": "https://localhost:8080/"
        },
        "id": "znt1Cllc-sYt",
        "outputId": "ac20cb88-6275-4a0b-fe4f-23d47c0c1bb7"
      },
      "source": [
        "#DecisionTreeClassifier\n",
        "desclr.fit(X_train,y_train)\n",
        "prediction_desclr=desclr.predict(X_df_test)\n",
        "#pred_train=logReg.predict(train_y)\n",
        "score=cross_val_score(desclr,X_train,y_train,cv=5)\n",
        "print(\"Score:\",score)\n",
        "#print(\"Confusion_matrix:\",confusion_matrix(train_y,pred_train))\n",
        "acc_log_desclr = round(desclr.score(X_train,y_train) * 100, 2)\n",
        "acc_log_desclr"
      ],
      "execution_count": 97,
      "outputs": [
        {
          "output_type": "stream",
          "name": "stdout",
          "text": [
            "Score: [0.75524476 0.73426573 0.71830986 0.75352113 0.72535211]\n"
          ]
        },
        {
          "output_type": "execute_result",
          "data": {
            "text/plain": [
              "100.0"
            ]
          },
          "metadata": {},
          "execution_count": 97
        }
      ]
    },
    {
      "cell_type": "code",
      "metadata": {
        "_uuid": "9255320a87f8c5b07d2047dcb2e7c21d355aff3d",
        "execution": {
          "iopub.status.busy": "2021-09-21T05:49:58.891807Z",
          "iopub.execute_input": "2021-09-21T05:49:58.892078Z",
          "iopub.status.idle": "2021-09-21T05:49:59.071204Z",
          "shell.execute_reply.started": "2021-09-21T05:49:58.892032Z",
          "shell.execute_reply": "2021-09-21T05:49:59.069816Z"
        },
        "trusted": true,
        "colab": {
          "base_uri": "https://localhost:8080/"
        },
        "id": "klDfR91G-sYu",
        "outputId": "9bf17ee6-b4eb-4a7d-f4c1-89cfe39efe2c"
      },
      "source": [
        "svc.fit(X_train,y_train)#Support Vector Classification\n",
        "prediction_svc=svc.predict(X_df_test)\n",
        "#pred_train=logReg.predict(train_y)\n",
        "score=cross_val_score(svc,X_train,y_train,cv=5)\n",
        "print(\"Score:\",score)\n",
        "#print(\"Confusion_matrix:\",confusion_matrix(train_y,pred_train))\n",
        "acc_log_svc = round(svc.score(X_train,y_train) * 100, 2)\n",
        "acc_log_svc"
      ],
      "execution_count": 98,
      "outputs": [
        {
          "output_type": "stream",
          "name": "stdout",
          "text": [
            "Score: [0.65734266 0.64335664 0.66197183 0.62676056 0.64084507]\n"
          ]
        },
        {
          "output_type": "execute_result",
          "data": {
            "text/plain": [
              "65.03"
            ]
          },
          "metadata": {},
          "execution_count": 98
        }
      ]
    },
    {
      "cell_type": "code",
      "metadata": {
        "_uuid": "0d4a928e138d809269d8270c96d849f43b6b4677",
        "execution": {
          "iopub.status.busy": "2021-09-21T05:49:59.073089Z",
          "iopub.execute_input": "2021-09-21T05:49:59.073443Z",
          "iopub.status.idle": "2021-09-21T05:49:59.561789Z",
          "shell.execute_reply.started": "2021-09-21T05:49:59.073372Z",
          "shell.execute_reply": "2021-09-21T05:49:59.560628Z"
        },
        "trusted": true,
        "colab": {
          "base_uri": "https://localhost:8080/"
        },
        "id": "HQ6bwqR0-sYu",
        "outputId": "2768616c-44ca-4bc6-c24f-8306362d984b"
      },
      "source": [
        "ada.fit(X_train,y_train)#ada boost classifier\n",
        "prediction_svc=ada.predict(X_df_test)\n",
        "#pred_train=logReg.predict(train_y)\n",
        "score=cross_val_score(ada,X_train,y_train,cv=5)\n",
        "print(\"Score:\",score)\n",
        "#print(\"Confusion_matrix:\",confusion_matrix(train_y,pred_train))\n",
        "acc_log_ada = round(ada.score(X_train,y_train) * 100, 2)\n",
        "acc_log_ada"
      ],
      "execution_count": 99,
      "outputs": [
        {
          "output_type": "stream",
          "name": "stdout",
          "text": [
            "Score: [0.79020979 0.7972028  0.8028169  0.78873239 0.75352113]\n"
          ]
        },
        {
          "output_type": "execute_result",
          "data": {
            "text/plain": [
              "83.85"
            ]
          },
          "metadata": {},
          "execution_count": 99
        }
      ]
    },
    {
      "cell_type": "code",
      "metadata": {
        "_uuid": "81e5db4fdb0faf043dcb5ca99a0d46d62791eeb0",
        "execution": {
          "iopub.status.busy": "2021-09-21T05:49:59.563361Z",
          "iopub.execute_input": "2021-09-21T05:49:59.563653Z",
          "iopub.status.idle": "2021-09-21T05:49:59.570530Z",
          "shell.execute_reply.started": "2021-09-21T05:49:59.563604Z",
          "shell.execute_reply": "2021-09-21T05:49:59.569559Z"
        },
        "trusted": true,
        "id": "cIwtIcPW-sYu"
      },
      "source": [
        "prediction_test=logReg.predict(test_df)"
      ],
      "execution_count": 100,
      "outputs": []
    },
    {
      "cell_type": "markdown",
      "metadata": {
        "id": "yErdIDV5Jl-R"
      },
      "source": [
        "#Fine Tuning"
      ]
    },
    {
      "cell_type": "code",
      "metadata": {
        "execution": {
          "iopub.status.busy": "2021-09-21T05:49:59.599374Z",
          "iopub.execute_input": "2021-09-21T05:49:59.599646Z",
          "iopub.status.idle": "2021-09-21T05:49:59.611190Z",
          "shell.execute_reply.started": "2021-09-21T05:49:59.599608Z",
          "shell.execute_reply": "2021-09-21T05:49:59.609861Z"
        },
        "trusted": true,
        "id": "Xm8_JgR9-sYu"
      },
      "source": [
        "#x = train_df['PassengerId','Pclass','Sex','Age','Parch','Fare','Cabin','Embarked','PassengerType','FamilySize']\n",
        "y_new = train_df['Survived']\n",
        "X_new = train_df.drop('Survived', axis = 1)\n",
        "X_new = train_df.drop('SibSp', axis = 1)"
      ],
      "execution_count": 103,
      "outputs": []
    },
    {
      "cell_type": "code",
      "metadata": {
        "execution": {
          "iopub.status.busy": "2021-09-21T05:51:50.356346Z",
          "iopub.execute_input": "2021-09-21T05:51:50.356703Z",
          "iopub.status.idle": "2021-09-21T05:51:50.406151Z",
          "shell.execute_reply.started": "2021-09-21T05:51:50.356647Z",
          "shell.execute_reply": "2021-09-21T05:51:50.405055Z"
        },
        "trusted": true,
        "colab": {
          "base_uri": "https://localhost:8080/"
        },
        "id": "-bZb8UGD-sYu",
        "outputId": "a449bfc6-ae59-442c-ec84-7af608d678e3"
      },
      "source": [
        "ada.fit(X_new,y_new)\n",
        "prediction_svc=ada.predict(X_df_test)\n",
        "#pred_train=logReg.predict(train_y)\n",
        "score=cross_val_score(ada,X_new,y_new,cv=5)\n",
        "print(\"Score:\",score)\n",
        "#print(\"Confusion_matrix:\",confusion_matrix(train_y,pred_train))\n",
        "acc_log_ada = round(ada.score(X_new,y_new) * 100, 2)\n",
        "acc_log_ada"
      ],
      "execution_count": 104,
      "outputs": [
        {
          "output_type": "stream",
          "name": "stdout",
          "text": [
            "Score: [1. 1. 1. 1. 1.]\n"
          ]
        },
        {
          "output_type": "execute_result",
          "data": {
            "text/plain": [
              "100.0"
            ]
          },
          "metadata": {},
          "execution_count": 104
        }
      ]
    }
  ]
}